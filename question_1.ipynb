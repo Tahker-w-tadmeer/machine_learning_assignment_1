{
 "cells": [
  {
   "cell_type": "markdown",
   "source": [
    "# Magic Dataset\n",
    "## Introduction\n",
    "We are supposed to use this 'magic' dataset to generate a prediction of wether the energy particles are of type gamma (g) or hadron (h)."
   ],
   "metadata": {
    "collapsed": false
   },
   "id": "af798ce8c8893b71"
  },
  {
   "cell_type": "code",
   "execution_count": 58,
   "outputs": [],
   "source": [
    "import numpy as np"
   ],
   "metadata": {
    "collapsed": false,
    "ExecuteTime": {
     "end_time": "2023-11-04T11:47:38.724303Z",
     "start_time": "2023-11-04T11:47:38.361709Z"
    }
   },
   "id": "8b3ddf79"
  },
  {
   "cell_type": "markdown",
   "source": [
    "## Loading data\n",
    "We are loading the data from file using numpy genfromtext function.\n",
    "Which will load all the features in a hashmap like data structure to help us easily manipulate the data "
   ],
   "metadata": {
    "collapsed": false
   },
   "id": "736bc02579f11db5"
  },
  {
   "cell_type": "code",
   "execution_count": 59,
   "id": "9be6cf901d1d50c9",
   "metadata": {
    "ExecuteTime": {
     "end_time": "2023-11-04T11:47:38.835653Z",
     "start_time": "2023-11-04T11:47:38.401763Z"
    }
   },
   "outputs": [
    {
     "data": {
      "text/plain": "array([( 28.7967,  16.0021, 2.6449, 0.3918, 0.1982,   27.7004,   22.011 ,  -8.2027, 40.092 ,  81.8828, 'g'),\n       ( 31.6036,  11.7235, 2.5185, 0.5303, 0.3773,   26.2722,   23.8238,  -9.9574,  6.3609, 205.261 , 'g'),\n       (162.052 , 136.031 , 4.0612, 0.0374, 0.0187,  116.741 ,  -64.858 , -45.216 , 76.96  , 256.788 , 'g'),\n       ...,\n       ( 75.4455,  47.5305, 3.4483, 0.1417, 0.0549,   -9.3561,   41.0562,  -9.4662, 30.2987, 256.5166, 'h'),\n       (120.5135,  76.9018, 3.9939, 0.0944, 0.0683,    5.8043,  -93.5224, -63.8389, 84.6874, 408.3166, 'h'),\n       (187.1814,  53.0014, 3.2093, 0.2876, 0.1539, -167.3125, -168.4558,  31.4755, 52.731 , 272.3174, 'h')],\n      dtype=[('f0', '<f8'), ('f1', '<f8'), ('f2', '<f8'), ('f3', '<f8'), ('f4', '<f8'), ('f5', '<f8'), ('f6', '<f8'), ('f7', '<f8'), ('f8', '<f8'), ('f9', '<f8'), ('f10', '<U1')])"
     },
     "execution_count": 59,
     "metadata": {},
     "output_type": "execute_result"
    }
   ],
   "source": [
    "data_set = np.genfromtxt('magic04.data', delimiter=',', dtype=None, encoding='utf-8')\n",
    "data_set"
   ]
  },
  {
   "cell_type": "markdown",
   "source": [
    "## Separating Gammas from Hadrons\n",
    "In order to make both datasets equal in size we will separate Gs from Hs.\n",
    "Knowing that gamma data is in the first 12332 rows we separate the gamma in a variable called g_class\n",
    "### Gamma data "
   ],
   "metadata": {
    "collapsed": false
   },
   "id": "ef0979632750ef02"
  },
  {
   "cell_type": "code",
   "execution_count": 60,
   "outputs": [
    {
     "data": {
      "text/plain": "array([( 28.7967,  16.0021, 2.6449, 0.3918, 0.1982,  27.7004,  22.011 ,  -8.2027, 40.092 ,  81.8828, 'g'),\n       ( 31.6036,  11.7235, 2.5185, 0.5303, 0.3773,  26.2722,  23.8238,  -9.9574,  6.3609, 205.261 , 'g'),\n       (162.052 , 136.031 , 4.0612, 0.0374, 0.0187, 116.741 , -64.858 , -45.216 , 76.96  , 256.788 , 'g'),\n       ...,\n       ( 22.0913,  10.8949, 2.2945, 0.5381, 0.2919,  15.2776,  18.2296,   7.3975, 21.068 , 123.281 , 'g'),\n       ( 56.2216,  18.7019, 2.9297, 0.2516, 0.1393,  96.5758, -41.2969,  11.3764,  5.911 , 197.209 , 'g'),\n       ( 31.5125,  19.2867, 2.9578, 0.2975, 0.1515,  38.1833,  21.6729, -12.0726, 17.5809, 171.227 , 'g')],\n      dtype=[('f0', '<f8'), ('f1', '<f8'), ('f2', '<f8'), ('f3', '<f8'), ('f4', '<f8'), ('f5', '<f8'), ('f6', '<f8'), ('f7', '<f8'), ('f8', '<f8'), ('f9', '<f8'), ('f10', '<U1')])"
     },
     "execution_count": 60,
     "metadata": {},
     "output_type": "execute_result"
    }
   ],
   "source": [
    "g_class=data_set[:12332]\n",
    "g_class"
   ],
   "metadata": {
    "collapsed": false,
    "ExecuteTime": {
     "end_time": "2023-11-04T11:47:38.870588Z",
     "start_time": "2023-11-04T11:47:38.746287Z"
    }
   },
   "id": "66fd67de"
  },
  {
   "cell_type": "markdown",
   "source": [
    "### Hadron data"
   ],
   "metadata": {
    "collapsed": false
   },
   "id": "f11d866469d7399c"
  },
  {
   "cell_type": "code",
   "execution_count": 61,
   "outputs": [
    {
     "data": {
      "text/plain": "array([( 93.7035, 37.9432, 3.1454, 0.168 , 0.1011,   53.2566,   89.0566,  11.8175, 14.1224, 231.9028, 'h'),\n       (102.0005, 22.0017, 3.3161, 0.1064, 0.0724,  -54.0862,   43.0553, -15.0647, 88.4636, 274.9392, 'h'),\n       (100.2775, 21.8784, 3.11  , 0.312 , 0.1446,  -48.1834,   57.6547,  -9.6341, 20.7848, 346.433 , 'h'),\n       ...,\n       ( 75.4455, 47.5305, 3.4483, 0.1417, 0.0549,   -9.3561,   41.0562,  -9.4662, 30.2987, 256.5166, 'h'),\n       (120.5135, 76.9018, 3.9939, 0.0944, 0.0683,    5.8043,  -93.5224, -63.8389, 84.6874, 408.3166, 'h'),\n       (187.1814, 53.0014, 3.2093, 0.2876, 0.1539, -167.3125, -168.4558,  31.4755, 52.731 , 272.3174, 'h')],\n      dtype=[('f0', '<f8'), ('f1', '<f8'), ('f2', '<f8'), ('f3', '<f8'), ('f4', '<f8'), ('f5', '<f8'), ('f6', '<f8'), ('f7', '<f8'), ('f8', '<f8'), ('f9', '<f8'), ('f10', '<U1')])"
     },
     "execution_count": 61,
     "metadata": {},
     "output_type": "execute_result"
    }
   ],
   "source": [
    "h_class=data_set[12332:]\n",
    "h_class"
   ],
   "metadata": {
    "collapsed": false,
    "ExecuteTime": {
     "end_time": "2023-11-04T11:47:38.871110Z",
     "start_time": "2023-11-04T11:47:38.759782Z"
    }
   },
   "id": "1197ab4a3deb1957"
  },
  {
   "cell_type": "markdown",
   "source": [
    "## Making Gs the same size as Hs\n",
    "We are taking a random 6688 rows from the gamma array to make both datasets equal"
   ],
   "metadata": {
    "collapsed": false
   },
   "id": "e12164f0faea97b2"
  },
  {
   "cell_type": "code",
   "execution_count": 62,
   "outputs": [
    {
     "name": "stdout",
     "output_type": "stream",
     "text": [
      "[(117.16  , 21.5912, 3.0204, 0.3015, 0.1665, -117.488 , -73.3775, -14.3856,  0.181 , 324.714, 'g')\n",
      " ( 20.9316, 15.2379, 2.4857, 0.4575, 0.2402,   25.2371,  14.1903,   5.9376, 36.675 , 137.007, 'g')\n",
      " ( 48.5393, 19.3707, 2.4401, 0.3775, 0.1942,   35.1581,  33.3854, -14.009 ,  9.9947, 163.199, 'g')\n",
      " ...\n",
      " ( 72.8137, 34.9071, 3.2667, 0.2922, 0.1631,   -0.4914,  18.4641,  20.3378, 12.275 , 338.84 , 'g')\n",
      " ( 74.7241, 25.517 , 3.3375, 0.1687, 0.0857,   52.4757,  57.9373,  -9.0161,  4.5284, 261.352, 'g')\n",
      " ( 40.0652, 21.3799, 2.9811, 0.2851, 0.1655,   18.9428,  26.5156,  16.5628, 18.0501, 213.502, 'g')]\n",
      "(6688,)\n"
     ]
    }
   ],
   "source": [
    "g_class=np.random.choice(g_class,size=6688,replace=False)\n",
    "print(g_class)\n",
    "print(g_class.shape)"
   ],
   "metadata": {
    "collapsed": false,
    "ExecuteTime": {
     "end_time": "2023-11-04T11:47:38.871320Z",
     "start_time": "2023-11-04T11:47:38.769371Z"
    }
   },
   "id": "52df383cfe35b0ba"
  },
  {
   "cell_type": "markdown",
   "source": [
    "## Constructing a new data array\n",
    "We will concatinate the new shortened g_class with the h_class to have our new dataset with equal parameters for both predections."
   ],
   "metadata": {
    "collapsed": false
   },
   "id": "c4307361fce0a47b"
  },
  {
   "cell_type": "code",
   "execution_count": 63,
   "outputs": [
    {
     "name": "stdout",
     "output_type": "stream",
     "text": [
      "[(117.16  , 21.5912, 3.0204, 0.3015, 0.1665, -117.488 ,  -73.3775, -14.3856,  0.181 , 324.714 , 'g')\n",
      " ( 20.9316, 15.2379, 2.4857, 0.4575, 0.2402,   25.2371,   14.1903,   5.9376, 36.675 , 137.007 , 'g')\n",
      " ( 48.5393, 19.3707, 2.4401, 0.3775, 0.1942,   35.1581,   33.3854, -14.009 ,  9.9947, 163.199 , 'g')\n",
      " ...\n",
      " ( 75.4455, 47.5305, 3.4483, 0.1417, 0.0549,   -9.3561,   41.0562,  -9.4662, 30.2987, 256.5166, 'h')\n",
      " (120.5135, 76.9018, 3.9939, 0.0944, 0.0683,    5.8043,  -93.5224, -63.8389, 84.6874, 408.3166, 'h')\n",
      " (187.1814, 53.0014, 3.2093, 0.2876, 0.1539, -167.3125, -168.4558,  31.4755, 52.731 , 272.3174, 'h')]\n",
      "(13376,)\n"
     ]
    }
   ],
   "source": [
    "data=np.concatenate((g_class,h_class),axis=0)\n",
    "print(data)\n",
    "print(data.shape)"
   ],
   "metadata": {
    "collapsed": false,
    "ExecuteTime": {
     "end_time": "2023-11-04T11:47:38.871474Z",
     "start_time": "2023-11-04T11:47:38.777494Z"
    }
   },
   "id": "789b0f484fce871b"
  },
  {
   "cell_type": "markdown",
   "source": [
    "## Randomizing data by shuffle and splitting\n",
    "We are shuffling all our data using numpy\n",
    "### Spliting data to Training, Testing, Validation data sets"
   ],
   "metadata": {
    "collapsed": false
   },
   "id": "199bed6c024057aa"
  },
  {
   "cell_type": "code",
   "execution_count": 64,
   "outputs": [],
   "source": [
    "rng = np.random.default_rng()\n",
    "rng.shuffle(data)\n",
    "train,test_validate=np.array_split(data,[int(0.70 * len(data))])\n",
    "test,validation=np.array_split(test_validate,[int(0.50 * len(test_validate))])"
   ],
   "metadata": {
    "collapsed": false,
    "ExecuteTime": {
     "end_time": "2023-11-04T11:47:38.871586Z",
     "start_time": "2023-11-04T11:47:38.791012Z"
    }
   },
   "id": "43ef6e24265c57a"
  },
  {
   "cell_type": "code",
   "execution_count": 65,
   "outputs": [
    {
     "name": "stdout",
     "output_type": "stream",
     "text": [
      "train: 9363\n",
      "test: 2006\n",
      "validation: 2007\n"
     ]
    }
   ],
   "source": [
    "print(f\"train: {train.shape[0]}\\n\"\n",
    "      f\"test: {test.shape[0]}\\n\"\n",
    "      f\"validation: {validation.shape[0]}\")"
   ],
   "metadata": {
    "collapsed": false,
    "ExecuteTime": {
     "end_time": "2023-11-04T11:47:38.872072Z",
     "start_time": "2023-11-04T11:47:38.796002Z"
    }
   },
   "id": "fdf402d89bfb27e9"
  },
  {
   "cell_type": "markdown",
   "source": [
    "## Separating features from the perdiction\n",
    "We are taking the first ten features and putting them in array x_data\n",
    "and the last feature (the predection) in array y_data"
   ],
   "metadata": {
    "collapsed": false
   },
   "id": "6616ee52103fc454"
  },
  {
   "cell_type": "code",
   "execution_count": 66,
   "outputs": [],
   "source": [
    "def return_x_y_arrays(data_set_to_be_sliced):\n",
    "      buf=data_set_to_be_sliced.tolist()\n",
    "      x_data= []\n",
    "      y_data=[]\n",
    "      for d in buf:\n",
    "            x=d[:10]\n",
    "            x_data.append(x)\n",
    "            y=np.array([d[10]])\n",
    "            y_data.append(y)\n",
    "      x_data=np.array(x_data)\n",
    "      y_data=np.array(y_data).ravel()\n",
    "      return x_data,y_data"
   ],
   "metadata": {
    "collapsed": false,
    "ExecuteTime": {
     "end_time": "2023-11-04T11:47:38.872160Z",
     "start_time": "2023-11-04T11:47:38.805334Z"
    }
   },
   "id": "8a1f9e2ba1d002f6"
  },
  {
   "cell_type": "code",
   "execution_count": 67,
   "outputs": [],
   "source": [
    "x_train,y_train=return_x_y_arrays(train)\n",
    "x_validation,y_validation=return_x_y_arrays(validation)\n",
    "x_test,y_test=return_x_y_arrays(test)"
   ],
   "metadata": {
    "collapsed": false,
    "ExecuteTime": {
     "end_time": "2023-11-04T11:47:38.875978Z",
     "start_time": "2023-11-04T11:47:38.822682Z"
    }
   },
   "id": "b616be3a832d815"
  },
  {
   "cell_type": "markdown",
   "source": [
    "## Fitting and training the model"
   ],
   "metadata": {
    "collapsed": false
   },
   "id": "d34b3f8ccce9f27a"
  },
  {
   "cell_type": "code",
   "execution_count": 68,
   "outputs": [
    {
     "data": {
      "text/plain": "KNeighborsClassifier(n_neighbors=1)",
      "text/html": "<style>#sk-container-id-3 {color: black;}#sk-container-id-3 pre{padding: 0;}#sk-container-id-3 div.sk-toggleable {background-color: white;}#sk-container-id-3 label.sk-toggleable__label {cursor: pointer;display: block;width: 100%;margin-bottom: 0;padding: 0.3em;box-sizing: border-box;text-align: center;}#sk-container-id-3 label.sk-toggleable__label-arrow:before {content: \"▸\";float: left;margin-right: 0.25em;color: #696969;}#sk-container-id-3 label.sk-toggleable__label-arrow:hover:before {color: black;}#sk-container-id-3 div.sk-estimator:hover label.sk-toggleable__label-arrow:before {color: black;}#sk-container-id-3 div.sk-toggleable__content {max-height: 0;max-width: 0;overflow: hidden;text-align: left;background-color: #f0f8ff;}#sk-container-id-3 div.sk-toggleable__content pre {margin: 0.2em;color: black;border-radius: 0.25em;background-color: #f0f8ff;}#sk-container-id-3 input.sk-toggleable__control:checked~div.sk-toggleable__content {max-height: 200px;max-width: 100%;overflow: auto;}#sk-container-id-3 input.sk-toggleable__control:checked~label.sk-toggleable__label-arrow:before {content: \"▾\";}#sk-container-id-3 div.sk-estimator input.sk-toggleable__control:checked~label.sk-toggleable__label {background-color: #d4ebff;}#sk-container-id-3 div.sk-label input.sk-toggleable__control:checked~label.sk-toggleable__label {background-color: #d4ebff;}#sk-container-id-3 input.sk-hidden--visually {border: 0;clip: rect(1px 1px 1px 1px);clip: rect(1px, 1px, 1px, 1px);height: 1px;margin: -1px;overflow: hidden;padding: 0;position: absolute;width: 1px;}#sk-container-id-3 div.sk-estimator {font-family: monospace;background-color: #f0f8ff;border: 1px dotted black;border-radius: 0.25em;box-sizing: border-box;margin-bottom: 0.5em;}#sk-container-id-3 div.sk-estimator:hover {background-color: #d4ebff;}#sk-container-id-3 div.sk-parallel-item::after {content: \"\";width: 100%;border-bottom: 1px solid gray;flex-grow: 1;}#sk-container-id-3 div.sk-label:hover label.sk-toggleable__label {background-color: #d4ebff;}#sk-container-id-3 div.sk-serial::before {content: \"\";position: absolute;border-left: 1px solid gray;box-sizing: border-box;top: 0;bottom: 0;left: 50%;z-index: 0;}#sk-container-id-3 div.sk-serial {display: flex;flex-direction: column;align-items: center;background-color: white;padding-right: 0.2em;padding-left: 0.2em;position: relative;}#sk-container-id-3 div.sk-item {position: relative;z-index: 1;}#sk-container-id-3 div.sk-parallel {display: flex;align-items: stretch;justify-content: center;background-color: white;position: relative;}#sk-container-id-3 div.sk-item::before, #sk-container-id-3 div.sk-parallel-item::before {content: \"\";position: absolute;border-left: 1px solid gray;box-sizing: border-box;top: 0;bottom: 0;left: 50%;z-index: -1;}#sk-container-id-3 div.sk-parallel-item {display: flex;flex-direction: column;z-index: 1;position: relative;background-color: white;}#sk-container-id-3 div.sk-parallel-item:first-child::after {align-self: flex-end;width: 50%;}#sk-container-id-3 div.sk-parallel-item:last-child::after {align-self: flex-start;width: 50%;}#sk-container-id-3 div.sk-parallel-item:only-child::after {width: 0;}#sk-container-id-3 div.sk-dashed-wrapped {border: 1px dashed gray;margin: 0 0.4em 0.5em 0.4em;box-sizing: border-box;padding-bottom: 0.4em;background-color: white;}#sk-container-id-3 div.sk-label label {font-family: monospace;font-weight: bold;display: inline-block;line-height: 1.2em;}#sk-container-id-3 div.sk-label-container {text-align: center;}#sk-container-id-3 div.sk-container {/* jupyter's `normalize.less` sets `[hidden] { display: none; }` but bootstrap.min.css set `[hidden] { display: none !important; }` so we also need the `!important` here to be able to override the default hidden behavior on the sphinx rendered scikit-learn.org. See: https://github.com/scikit-learn/scikit-learn/issues/21755 */display: inline-block !important;position: relative;}#sk-container-id-3 div.sk-text-repr-fallback {display: none;}</style><div id=\"sk-container-id-3\" class=\"sk-top-container\"><div class=\"sk-text-repr-fallback\"><pre>KNeighborsClassifier(n_neighbors=1)</pre><b>In a Jupyter environment, please rerun this cell to show the HTML representation or trust the notebook. <br />On GitHub, the HTML representation is unable to render, please try loading this page with nbviewer.org.</b></div><div class=\"sk-container\" hidden><div class=\"sk-item\"><div class=\"sk-estimator sk-toggleable\"><input class=\"sk-toggleable__control sk-hidden--visually\" id=\"sk-estimator-id-3\" type=\"checkbox\" checked><label for=\"sk-estimator-id-3\" class=\"sk-toggleable__label sk-toggleable__label-arrow\">KNeighborsClassifier</label><div class=\"sk-toggleable__content\"><pre>KNeighborsClassifier(n_neighbors=1)</pre></div></div></div></div></div>"
     },
     "execution_count": 68,
     "metadata": {},
     "output_type": "execute_result"
    }
   ],
   "source": [
    "from sklearn.neighbors import KNeighborsClassifier as knn\n",
    "model=knn(n_neighbors=1)\n",
    "model.fit(x_train, y_train)"
   ],
   "metadata": {
    "collapsed": false,
    "ExecuteTime": {
     "end_time": "2023-11-04T11:47:38.904423Z",
     "start_time": "2023-11-04T11:47:38.852281Z"
    }
   },
   "id": "27b2a2dde5041aaf"
  },
  {
   "cell_type": "markdown",
   "source": [
    "## Scoring the model using test and validation datasets\n",
    "We will use various K values to score the model\n",
    "\n",
    "k=1\n",
    "k=3\n",
    "k=10\n",
    "k=23 -> Best\n",
    "k=600"
   ],
   "metadata": {
    "collapsed": false
   },
   "id": "94b652dd57ceae58"
  },
  {
   "cell_type": "code",
   "execution_count": 69,
   "outputs": [
    {
     "name": "stdout",
     "output_type": "stream",
     "text": [
      "0.7318045862412762\n",
      "0.7409068261086198\n"
     ]
    }
   ],
   "source": [
    "print(model.score(x_test,y_test))\n",
    "print(model.score(x_validation,y_validation))"
   ],
   "metadata": {
    "collapsed": false,
    "ExecuteTime": {
     "end_time": "2023-11-04T11:47:39.117302Z",
     "start_time": "2023-11-04T11:47:38.875875Z"
    }
   },
   "id": "6939a5adc29cee4b"
  },
  {
   "cell_type": "code",
   "execution_count": 70,
   "outputs": [
    {
     "name": "stdout",
     "output_type": "stream",
     "text": [
      "0.7582253240279162\n",
      "0.7513702042850025\n"
     ]
    }
   ],
   "source": [
    "model.n_neighbors=3\n",
    "print(model.score(x_test,y_test))\n",
    "print(model.score(x_validation,y_validation))"
   ],
   "metadata": {
    "collapsed": false,
    "ExecuteTime": {
     "end_time": "2023-11-04T11:47:39.253766Z",
     "start_time": "2023-11-04T11:47:39.071713Z"
    }
   },
   "id": "930785ac81228fab"
  },
  {
   "cell_type": "code",
   "execution_count": 71,
   "outputs": [
    {
     "name": "stdout",
     "output_type": "stream",
     "text": [
      "0.7681954137587238\n",
      "0.7678126557050324\n"
     ]
    }
   ],
   "source": [
    "model.n_neighbors=10\n",
    "print(model.score(x_test,y_test))\n",
    "print(model.score(x_validation,y_validation))"
   ],
   "metadata": {
    "collapsed": false,
    "ExecuteTime": {
     "end_time": "2023-11-04T11:47:39.456347Z",
     "start_time": "2023-11-04T11:47:39.248088Z"
    }
   },
   "id": "d614114ab0bc8cfb"
  },
  {
   "cell_type": "code",
   "execution_count": 72,
   "outputs": [
    {
     "name": "stdout",
     "output_type": "stream",
     "text": [
      "0.765702891326022\n",
      "0.7688091679123069\n"
     ]
    }
   ],
   "source": [
    "model.n_neighbors=23\n",
    "print(model.score(x_test,y_test))\n",
    "print(model.score(x_validation,y_validation))"
   ],
   "metadata": {
    "collapsed": false,
    "ExecuteTime": {
     "end_time": "2023-11-04T11:47:39.730187Z",
     "start_time": "2023-11-04T11:47:39.424764Z"
    }
   },
   "id": "64781c5f97d286fe"
  },
  {
   "cell_type": "code",
   "execution_count": 73,
   "outputs": [
    {
     "name": "stdout",
     "output_type": "stream",
     "text": [
      "0.7288135593220338\n",
      "0.7159940209267563\n"
     ]
    }
   ],
   "source": [
    "model.n_neighbors=600\n",
    "print(model.score(x_test,y_test))\n",
    "print(model.score(x_validation,y_validation))"
   ],
   "metadata": {
    "collapsed": false,
    "ExecuteTime": {
     "end_time": "2023-11-04T11:47:40.951547Z",
     "start_time": "2023-11-04T11:47:39.703304Z"
    }
   },
   "id": "5b16c1e1ef64ae59"
  },
  {
   "cell_type": "code",
   "execution_count": 74,
   "outputs": [
    {
     "name": "stdout",
     "output_type": "stream",
     "text": [
      "{'n_neighbors': [1, 3, 5, 7, 9, 11, 13, 15, 17, 19, 21, 23, 25]}\n",
      "{'n_neighbors': 17}\n",
      "Accuracy for our training dataset with tuning is : 77.28%\n"
     ]
    }
   ],
   "source": [
    "from sklearn.neighbors import KNeighborsClassifier\n",
    "from sklearn.model_selection import GridSearchCV\n",
    "KN = KNeighborsClassifier()\n",
    "k_range = list(range(1, 26, 2)) # 1, 3, 5, ..., 25\n",
    "param_grid = dict(n_neighbors=k_range)\n",
    "print(param_grid)\n",
    "grid = GridSearchCV(KN, param_grid, cv=10, scoring='accuracy', return_train_score=True)\n",
    "\n",
    "# Training data\n",
    "g = grid.fit(x_train, y_train)\n",
    "print(grid.best_params_)\n",
    "accuracy=grid.best_score_ * 100\n",
    "print(\"Accuracy for our training dataset with tuning is : {:.2f}%\".format(accuracy) )"
   ],
   "metadata": {
    "collapsed": false,
    "ExecuteTime": {
     "end_time": "2023-11-04T11:48:29.290677Z",
     "start_time": "2023-11-04T11:47:40.955073Z"
    }
   },
   "id": "bc390c82f93b9a78"
  },
  {
   "cell_type": "code",
   "execution_count": 75,
   "outputs": [
    {
     "name": "stdout",
     "output_type": "stream",
     "text": [
      "0.7607178464606181\n",
      "0.7802690582959642\n"
     ]
    }
   ],
   "source": [
    "best_k = grid.best_params_['n_neighbors']\n",
    "\n",
    "# Calculation test accuracy score\n",
    "knn = KNeighborsClassifier(n_neighbors=best_k)\n",
    "knn.fit(x_train,y_train)\n",
    "y_test_pred = knn.predict(x_test)\n",
    "test_accuracy = knn.score(x_test, y_test)\n",
    "print(test_accuracy)\n",
    "\n",
    "# Calculation validation accuracy score\n",
    "knn = KNeighborsClassifier(n_neighbors=best_k)\n",
    "knn.fit(x_train,y_train)\n",
    "y_validation_pred = knn.predict(x_validation)\n",
    "test_accuracy = knn.score(x_validation, y_validation)\n",
    "print(test_accuracy)"
   ],
   "metadata": {
    "collapsed": false,
    "ExecuteTime": {
     "end_time": "2023-11-04T11:48:29.633589Z",
     "start_time": "2023-11-04T11:48:29.297145Z"
    }
   },
   "id": "24f62154dee04bc2"
  },
  {
   "cell_type": "markdown",
   "source": [
    "## Using confusion matrix to display the results in human-readable graphic "
   ],
   "metadata": {
    "collapsed": false
   },
   "id": "d690110f2f7f34b8"
  },
  {
   "cell_type": "code",
   "execution_count": 76,
   "outputs": [
    {
     "name": "stdout",
     "output_type": "stream",
     "text": [
      "              precision    recall  f1-score   support\n",
      "\n",
      "           g       0.72      0.88      0.79      1037\n",
      "           h       0.83      0.63      0.72       969\n",
      "\n",
      "    accuracy                           0.76      2006\n",
      "   macro avg       0.78      0.76      0.76      2006\n",
      "weighted avg       0.77      0.76      0.76      2006\n"
     ]
    },
    {
     "data": {
      "text/plain": "<Figure size 640x480 with 2 Axes>",
      "image/png": "[encoded data removed]"
     },
     "metadata": {},
     "output_type": "display_data"
    }
   ],
   "source": [
    "from sklearn.metrics import confusion_matrix,classification_report\n",
    "from sklearn.metrics import ConfusionMatrixDisplay\n",
    "import matplotlib.pyplot as plt\n",
    "matix = confusion_matrix(y_test,y_test_pred)\n",
    "print(classification_report(y_test,y_test_pred))\n",
    "disp = ConfusionMatrixDisplay(confusion_matrix=matix,display_labels=['g','h'])\n",
    "disp = disp.plot(cmap=plt.cm.Blues)"
   ],
   "metadata": {
    "collapsed": false,
    "ExecuteTime": {
     "end_time": "2023-11-04T11:48:29.793619Z",
     "start_time": "2023-11-04T11:48:29.629105Z"
    }
   },
   "id": "49c095c00fbe7dec"
  },
  {
   "cell_type": "code",
   "execution_count": 77,
   "outputs": [
    {
     "data": {
      "text/plain": "   param_n_neighbors  mean_train_score  mean_test_score\n0                  1          1.000000         0.740256\n1                  3          0.870163         0.759692\n2                  5          0.837777         0.764817\n3                  7          0.822956         0.767594\n4                  9          0.813201         0.768556\n5                 11          0.806983         0.771227\n6                 13          0.802295         0.769518\n7                 15          0.798308         0.768877\n8                 17          0.795899         0.772829\n9                 19          0.792374         0.766313\n10                21          0.789645         0.765244\n11                23          0.786951         0.765993\n12                25          0.786180         0.768022",
      "text/html": "<div>\n<style scoped>\n    .dataframe tbody tr th:only-of-type {\n        vertical-align: middle;\n    }\n\n    .dataframe tbody tr th {\n        vertical-align: top;\n    }\n\n    .dataframe thead th {\n        text-align: right;\n    }\n</style>\n<table border=\"1\" class=\"dataframe\">\n  <thead>\n    <tr style=\"text-align: right;\">\n      <th></th>\n      <th>param_n_neighbors</th>\n      <th>mean_train_score</th>\n      <th>mean_test_score</th>\n    </tr>\n  </thead>\n  <tbody>\n    <tr>\n      <th>0</th>\n      <td>1</td>\n      <td>1.000000</td>\n      <td>0.740256</td>\n    </tr>\n    <tr>\n      <th>1</th>\n      <td>3</td>\n      <td>0.870163</td>\n      <td>0.759692</td>\n    </tr>\n    <tr>\n      <th>2</th>\n      <td>5</td>\n      <td>0.837777</td>\n      <td>0.764817</td>\n    </tr>\n    <tr>\n      <th>3</th>\n      <td>7</td>\n      <td>0.822956</td>\n      <td>0.767594</td>\n    </tr>\n    <tr>\n      <th>4</th>\n      <td>9</td>\n      <td>0.813201</td>\n      <td>0.768556</td>\n    </tr>\n    <tr>\n      <th>5</th>\n      <td>11</td>\n      <td>0.806983</td>\n      <td>0.771227</td>\n    </tr>\n    <tr>\n      <th>6</th>\n      <td>13</td>\n      <td>0.802295</td>\n      <td>0.769518</td>\n    </tr>\n    <tr>\n      <th>7</th>\n      <td>15</td>\n      <td>0.798308</td>\n      <td>0.768877</td>\n    </tr>\n    <tr>\n      <th>8</th>\n      <td>17</td>\n      <td>0.795899</td>\n      <td>0.772829</td>\n    </tr>\n    <tr>\n      <th>9</th>\n      <td>19</td>\n      <td>0.792374</td>\n      <td>0.766313</td>\n    </tr>\n    <tr>\n      <th>10</th>\n      <td>21</td>\n      <td>0.789645</td>\n      <td>0.765244</td>\n    </tr>\n    <tr>\n      <th>11</th>\n      <td>23</td>\n      <td>0.786951</td>\n      <td>0.765993</td>\n    </tr>\n    <tr>\n      <th>12</th>\n      <td>25</td>\n      <td>0.786180</td>\n      <td>0.768022</td>\n    </tr>\n  </tbody>\n</table>\n</div>"
     },
     "execution_count": 77,
     "metadata": {},
     "output_type": "execute_result"
    }
   ],
   "source": [
    "import pandas as pd\n",
    "results = pd.DataFrame(g.cv_results_)\n",
    "needed_results = results[['param_n_neighbors', 'mean_train_score', 'mean_test_score']]\n",
    "needed_results"
   ],
   "metadata": {
    "collapsed": false,
    "ExecuteTime": {
     "end_time": "2023-11-04T11:48:29.866182Z",
     "start_time": "2023-11-04T11:48:29.801397Z"
    }
   },
   "id": "1e0779bc70a6c2f8"
  }
 ],
 "metadata": {
  "kernelspec": {
   "display_name": "Python 3 (ipykernel)",
   "language": "python",
   "name": "python3"
  },
  "language_info": {
   "codemirror_mode": {
    "name": "ipython",
    "version": 3
   },
   "file_extension": ".py",
   "mimetype": "text/x-python",
   "name": "python",
   "nbconvert_exporter": "python",
   "pygments_lexer": "ipython3",
   "version": "3.9.12"
  }
 },
 "nbformat": 4,
 "nbformat_minor": 5
}
