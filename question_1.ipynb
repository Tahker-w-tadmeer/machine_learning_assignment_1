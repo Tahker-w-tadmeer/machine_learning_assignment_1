{
 "cells": [
  {
   "cell_type": "code",
   "execution_count": 1,
   "id": "8b3ddf79",
   "metadata": {
    "ExecuteTime": {
     "end_time": "2023-11-02T22:58:24.950345300Z",
     "start_time": "2023-11-02T22:58:24.000809200Z"
    }
   },
   "outputs": [],
   "source": [
    "import numpy as np"
   ]
  },
  {
   "cell_type": "code",
   "execution_count": 2,
   "id": "9be6cf901d1d50c9",
   "metadata": {
    "ExecuteTime": {
     "end_time": "2023-11-02T22:58:25.192625700Z",
     "start_time": "2023-11-02T22:58:24.952344700Z"
    }
   },
   "outputs": [
    {
     "data": {
      "text/plain": "array([( 28.7967,  16.0021, 2.6449, 0.3918, 0.1982,   27.7004,   22.011 ,  -8.2027, 40.092 ,  81.8828, 'g'),\n       ( 31.6036,  11.7235, 2.5185, 0.5303, 0.3773,   26.2722,   23.8238,  -9.9574,  6.3609, 205.261 , 'g'),\n       (162.052 , 136.031 , 4.0612, 0.0374, 0.0187,  116.741 ,  -64.858 , -45.216 , 76.96  , 256.788 , 'g'),\n       ...,\n       ( 75.4455,  47.5305, 3.4483, 0.1417, 0.0549,   -9.3561,   41.0562,  -9.4662, 30.2987, 256.5166, 'h'),\n       (120.5135,  76.9018, 3.9939, 0.0944, 0.0683,    5.8043,  -93.5224, -63.8389, 84.6874, 408.3166, 'h'),\n       (187.1814,  53.0014, 3.2093, 0.2876, 0.1539, -167.3125, -168.4558,  31.4755, 52.731 , 272.3174, 'h')],\n      dtype=[('f0', '<f8'), ('f1', '<f8'), ('f2', '<f8'), ('f3', '<f8'), ('f4', '<f8'), ('f5', '<f8'), ('f6', '<f8'), ('f7', '<f8'), ('f8', '<f8'), ('f9', '<f8'), ('f10', '<U1')])"
     },
     "execution_count": 2,
     "metadata": {},
     "output_type": "execute_result"
    }
   ],
   "source": [
    "data_set = np.genfromtxt('magic04.data', delimiter=',', dtype=None, encoding='utf-8')\n",
    "data_set"
   ]
  },
  {
   "cell_type": "code",
   "execution_count": 3,
   "outputs": [
    {
     "data": {
      "text/plain": "array([( 28.7967,  16.0021, 2.6449, 0.3918, 0.1982,  27.7004,  22.011 ,  -8.2027, 40.092 ,  81.8828, 'g'),\n       ( 31.6036,  11.7235, 2.5185, 0.5303, 0.3773,  26.2722,  23.8238,  -9.9574,  6.3609, 205.261 , 'g'),\n       (162.052 , 136.031 , 4.0612, 0.0374, 0.0187, 116.741 , -64.858 , -45.216 , 76.96  , 256.788 , 'g'),\n       ...,\n       ( 22.0913,  10.8949, 2.2945, 0.5381, 0.2919,  15.2776,  18.2296,   7.3975, 21.068 , 123.281 , 'g'),\n       ( 56.2216,  18.7019, 2.9297, 0.2516, 0.1393,  96.5758, -41.2969,  11.3764,  5.911 , 197.209 , 'g'),\n       ( 31.5125,  19.2867, 2.9578, 0.2975, 0.1515,  38.1833,  21.6729, -12.0726, 17.5809, 171.227 , 'g')],\n      dtype=[('f0', '<f8'), ('f1', '<f8'), ('f2', '<f8'), ('f3', '<f8'), ('f4', '<f8'), ('f5', '<f8'), ('f6', '<f8'), ('f7', '<f8'), ('f8', '<f8'), ('f9', '<f8'), ('f10', '<U1')])"
     },
     "execution_count": 3,
     "metadata": {},
     "output_type": "execute_result"
    }
   ],
   "source": [
    "g_class=data_set[:12332]\n",
    "g_class"
   ],
   "metadata": {
    "collapsed": false,
    "ExecuteTime": {
     "end_time": "2023-11-02T22:58:26.053696400Z",
     "start_time": "2023-11-02T22:58:26.037682Z"
    }
   },
   "id": "66fd67de"
  },
  {
   "cell_type": "code",
   "execution_count": 4,
   "outputs": [
    {
     "data": {
      "text/plain": "array([( 93.7035, 37.9432, 3.1454, 0.168 , 0.1011,   53.2566,   89.0566,  11.8175, 14.1224, 231.9028, 'h'),\n       (102.0005, 22.0017, 3.3161, 0.1064, 0.0724,  -54.0862,   43.0553, -15.0647, 88.4636, 274.9392, 'h'),\n       (100.2775, 21.8784, 3.11  , 0.312 , 0.1446,  -48.1834,   57.6547,  -9.6341, 20.7848, 346.433 , 'h'),\n       ...,\n       ( 75.4455, 47.5305, 3.4483, 0.1417, 0.0549,   -9.3561,   41.0562,  -9.4662, 30.2987, 256.5166, 'h'),\n       (120.5135, 76.9018, 3.9939, 0.0944, 0.0683,    5.8043,  -93.5224, -63.8389, 84.6874, 408.3166, 'h'),\n       (187.1814, 53.0014, 3.2093, 0.2876, 0.1539, -167.3125, -168.4558,  31.4755, 52.731 , 272.3174, 'h')],\n      dtype=[('f0', '<f8'), ('f1', '<f8'), ('f2', '<f8'), ('f3', '<f8'), ('f4', '<f8'), ('f5', '<f8'), ('f6', '<f8'), ('f7', '<f8'), ('f8', '<f8'), ('f9', '<f8'), ('f10', '<U1')])"
     },
     "execution_count": 4,
     "metadata": {},
     "output_type": "execute_result"
    }
   ],
   "source": [
    "h_class=data_set[12332:]\n",
    "h_class"
   ],
   "metadata": {
    "collapsed": false,
    "ExecuteTime": {
     "end_time": "2023-11-02T22:58:28.463177600Z",
     "start_time": "2023-11-02T22:58:28.443519600Z"
    }
   },
   "id": "1197ab4a3deb1957"
  },
  {
   "cell_type": "code",
   "execution_count": 5,
   "outputs": [
    {
     "name": "stdout",
     "output_type": "stream",
     "text": [
      "[(47.3193, 19.4653, 3.0704, 0.2483, 0.1365,  31.7638,  22.4961, -10.3528,  5.2636, 182.399 , 'g')\n",
      " (24.788 , 15.5164, 2.4409, 0.4022, 0.2192, -15.1962, -16.1815, -13.349 , 57.5441,  57.8058, 'g')\n",
      " (12.7848, 11.5692, 2.2188, 0.7251, 0.3837,  15.2986,  -7.0807,  11.2142, 86.4459, 205.549 , 'g')\n",
      " ...\n",
      " (17.4898,  7.1962, 2.2753, 0.8435, 0.5279,  -5.02  ,   5.0717,   5.32  , 45.254 ,  60.518 , 'g')\n",
      " (76.1338, 10.3505, 2.2175, 0.5758, 0.3   , -85.9953,  17.2788,   8.2329,  1.1506, 130.364 , 'g')\n",
      " (74.2516, 29.6809, 2.8463, 0.235 , 0.1232,  91.203 ,  58.9536,  13.4662,  3.2129, 277.148 , 'g')]\n",
      "(6688,)\n"
     ]
    }
   ],
   "source": [
    "g_class=np.random.choice(g_class,size=6688,replace=False)\n",
    "print(g_class)\n",
    "print(g_class.shape)"
   ],
   "metadata": {
    "collapsed": false,
    "ExecuteTime": {
     "end_time": "2023-11-02T22:58:29.650677300Z",
     "start_time": "2023-11-02T22:58:29.635645300Z"
    }
   },
   "id": "52df383cfe35b0ba"
  },
  {
   "cell_type": "code",
   "execution_count": 6,
   "outputs": [
    {
     "name": "stdout",
     "output_type": "stream",
     "text": [
      "[( 47.3193, 19.4653, 3.0704, 0.2483, 0.1365,   31.7638,   22.4961, -10.3528,  5.2636, 182.399 , 'g')\n",
      " ( 24.788 , 15.5164, 2.4409, 0.4022, 0.2192,  -15.1962,  -16.1815, -13.349 , 57.5441,  57.8058, 'g')\n",
      " ( 12.7848, 11.5692, 2.2188, 0.7251, 0.3837,   15.2986,   -7.0807,  11.2142, 86.4459, 205.549 , 'g')\n",
      " ...\n",
      " ( 75.4455, 47.5305, 3.4483, 0.1417, 0.0549,   -9.3561,   41.0562,  -9.4662, 30.2987, 256.5166, 'h')\n",
      " (120.5135, 76.9018, 3.9939, 0.0944, 0.0683,    5.8043,  -93.5224, -63.8389, 84.6874, 408.3166, 'h')\n",
      " (187.1814, 53.0014, 3.2093, 0.2876, 0.1539, -167.3125, -168.4558,  31.4755, 52.731 , 272.3174, 'h')]\n",
      "(13376,)\n"
     ]
    }
   ],
   "source": [
    "data=np.concatenate((g_class,h_class),axis=0)\n",
    "print(data)\n",
    "print(data.shape)"
   ],
   "metadata": {
    "collapsed": false,
    "ExecuteTime": {
     "end_time": "2023-11-02T22:58:30.716725Z",
     "start_time": "2023-11-02T22:58:30.691911300Z"
    }
   },
   "id": "789b0f484fce871b"
  },
  {
   "cell_type": "code",
   "execution_count": 7,
   "outputs": [],
   "source": [
    "rng = np.random.default_rng()\n",
    "rng.shuffle(data)\n",
    "train,test_validate=np.array_split(data,[int(0.70 * len(data))])\n",
    "test,validation=np.array_split(test_validate,[int(0.50 * len(test_validate))])"
   ],
   "metadata": {
    "collapsed": false,
    "ExecuteTime": {
     "end_time": "2023-11-02T22:58:31.491365Z",
     "start_time": "2023-11-02T22:58:31.478284900Z"
    }
   },
   "id": "43ef6e24265c57a"
  },
  {
   "cell_type": "code",
   "execution_count": 8,
   "outputs": [
    {
     "name": "stdout",
     "output_type": "stream",
     "text": [
      "train: 9363\n",
      "test: 2006\n",
      "validation: 2007\n"
     ]
    }
   ],
   "source": [
    "print(f\"train: {train.shape[0]}\\n\"\n",
    "      f\"test: {test.shape[0]}\\n\"\n",
    "      f\"validation: {validation.shape[0]}\")"
   ],
   "metadata": {
    "collapsed": false,
    "ExecuteTime": {
     "end_time": "2023-11-02T22:58:32.259596400Z",
     "start_time": "2023-11-02T22:58:32.251059200Z"
    }
   },
   "id": "fdf402d89bfb27e9"
  },
  {
   "cell_type": "code",
   "execution_count": 9,
   "outputs": [
    {
     "data": {
      "text/plain": "array([(56.2949, 26.5441, 3.1058, 0.2138, 0.1097,   34.489 , 62.275 , -19.1669, 39.9409, 120.105 , 'h'),\n       (18.2898,  7.6596, 2.2159, 0.638 , 0.4358,   -4.6407,  6.5507,   9.3343, 28.3315, 226.1827, 'h'),\n       (57.6274, 21.8351, 3.1316, 0.1816, 0.0844,   13.6572, 57.9148, -10.5458, 15.9668, 107.342 , 'h'),\n       ...,\n       (96.4872, 19.2971, 2.8274, 0.3185, 0.1719, -149.693 , 91.9232,  13.8765, 10.213 , 190.592 , 'g'),\n       (88.3846, 29.7673, 3.3742, 0.1876, 0.1088,   43.919 , 98.9246, -10.9787, 10.06  , 173.821 , 'g'),\n       (32.2136, 17.0121, 2.8995, 0.344 , 0.1834,    9.4786, 14.4098, -11.7009,  0.596 , 206.205 , 'g')],\n      dtype=[('f0', '<f8'), ('f1', '<f8'), ('f2', '<f8'), ('f3', '<f8'), ('f4', '<f8'), ('f5', '<f8'), ('f6', '<f8'), ('f7', '<f8'), ('f8', '<f8'), ('f9', '<f8'), ('f10', '<U1')])"
     },
     "execution_count": 9,
     "metadata": {},
     "output_type": "execute_result"
    }
   ],
   "source": [
    "test"
   ],
   "metadata": {
    "collapsed": false,
    "ExecuteTime": {
     "end_time": "2023-11-02T22:58:33.335455100Z",
     "start_time": "2023-11-02T22:58:33.315393300Z"
    }
   },
   "id": "310591a4f586bb82"
  },
  {
   "cell_type": "code",
   "execution_count": 10,
   "outputs": [
    {
     "data": {
      "text/plain": "array([(95.8526, 15.8102, 3.2617, 0.2102, 0.1207, -56.7301,  25.5318,   3.3254, 41.1151,  82.0322, 'h'),\n       (23.7546, 10.8836, 2.4166, 0.6092, 0.3046,  33.1145, -18.2256,   6.1398, 49.59  ,  37.9886, 'h'),\n       (44.2851, 11.5464, 2.9766, 0.3356, 0.2201,  15.2287,  31.16  ,   5.1261, 29.9174, 192.748 , 'h'),\n       ...,\n       (27.3178, 11.8683, 2.5132, 0.454 , 0.2684,   6.4308,  21.9334, -11.2211,  5.2524, 156.958 , 'g'),\n       (17.9317, 16.5232, 2.4005, 0.5089, 0.2604,  -8.4113,  16.4595, -12.2526, 15.228 ,  43.9121, 'g'),\n       (17.5956,  7.985 , 2.5033, 0.6422, 0.4372,  14.772 ,  -4.109 , -12.7418, 51.0098, 157.6554, 'h')],\n      dtype=[('f0', '<f8'), ('f1', '<f8'), ('f2', '<f8'), ('f3', '<f8'), ('f4', '<f8'), ('f5', '<f8'), ('f6', '<f8'), ('f7', '<f8'), ('f8', '<f8'), ('f9', '<f8'), ('f10', '<U1')])"
     },
     "execution_count": 10,
     "metadata": {},
     "output_type": "execute_result"
    }
   ],
   "source": [
    "train"
   ],
   "metadata": {
    "collapsed": false,
    "ExecuteTime": {
     "end_time": "2023-11-02T22:58:34.415828300Z",
     "start_time": "2023-11-02T22:58:34.392329400Z"
    }
   },
   "id": "4a1261bee6ec9651"
  },
  {
   "cell_type": "code",
   "execution_count": 11,
   "outputs": [
    {
     "data": {
      "text/plain": "array([(16.8981, 15.2109, 1.9413, 0.7216, 0.3801, -26.2879,  -3.2996,  12.5493, 56.054 , 191.986 , 'h'),\n       (24.1754, 14.1008, 2.4314, 0.463 , 0.2611, -15.3973,  -9.0704,  11.8405,  1.3133, 167.008 , 'g'),\n       (67.7065, 19.3835, 2.8491, 0.4572, 0.2923,  -2.9579, -51.6782, -10.6018, 51.748 , 322.295 , 'h'),\n       ...,\n       (78.6512, 31.0313, 3.2848, 0.1744, 0.0927,  81.8203,  76.3706,  32.684 ,  9.2693, 263.055 , 'g'),\n       (18.405 , 10.4112, 2.3997, 0.5697, 0.3127,   0.3445,  -4.6528,  -5.8368, 54.28  ,  89.8562, 'g'),\n       (71.5616, 11.5457, 2.8903, 0.2979, 0.1566, -18.7604,  15.0026,  10.3962, 86.9989, 129.8355, 'h')],\n      dtype=[('f0', '<f8'), ('f1', '<f8'), ('f2', '<f8'), ('f3', '<f8'), ('f4', '<f8'), ('f5', '<f8'), ('f6', '<f8'), ('f7', '<f8'), ('f8', '<f8'), ('f9', '<f8'), ('f10', '<U1')])"
     },
     "execution_count": 11,
     "metadata": {},
     "output_type": "execute_result"
    }
   ],
   "source": [
    "validation"
   ],
   "metadata": {
    "collapsed": false,
    "ExecuteTime": {
     "end_time": "2023-11-02T22:58:35.250841400Z",
     "start_time": "2023-11-02T22:58:35.243024800Z"
    }
   },
   "id": "c29d8f32098282f8"
  },
  {
   "cell_type": "code",
   "execution_count": 12,
   "outputs": [],
   "source": [
    "def return_x_y_arrays(data_set_to_be_sliced):\n",
    "      buf=data_set_to_be_sliced.tolist()\n",
    "      x_data= []\n",
    "      y_data=[]\n",
    "      for data in buf:\n",
    "            x=data[:10]\n",
    "            x_data.append(x)\n",
    "            y=np.array([data[10]])\n",
    "            y_data.append(y)\n",
    "      x_data=np.array(x_data)\n",
    "      y_data=np.array(y_data).ravel()\n",
    "      return x_data,y_data"
   ],
   "metadata": {
    "collapsed": false,
    "ExecuteTime": {
     "end_time": "2023-11-02T22:58:36.210907400Z",
     "start_time": "2023-11-02T22:58:36.189655900Z"
    }
   },
   "id": "8a1f9e2ba1d002f6"
  },
  {
   "cell_type": "code",
   "execution_count": 13,
   "outputs": [],
   "source": [
    "x_train,y_train=return_x_y_arrays(train)\n",
    "x_validation,y_validation=return_x_y_arrays(validation)\n",
    "x_test,y_test=return_x_y_arrays(test)"
   ],
   "metadata": {
    "collapsed": false,
    "ExecuteTime": {
     "end_time": "2023-11-02T22:58:37.349939400Z",
     "start_time": "2023-11-02T22:58:37.307173900Z"
    }
   },
   "id": "b616be3a832d815"
  },
  {
   "cell_type": "code",
   "execution_count": 14,
   "outputs": [
    {
     "data": {
      "text/plain": "KNeighborsClassifier(n_neighbors=1)",
      "text/html": "<style>#sk-container-id-1 {color: black;}#sk-container-id-1 pre{padding: 0;}#sk-container-id-1 div.sk-toggleable {background-color: white;}#sk-container-id-1 label.sk-toggleable__label {cursor: pointer;display: block;width: 100%;margin-bottom: 0;padding: 0.3em;box-sizing: border-box;text-align: center;}#sk-container-id-1 label.sk-toggleable__label-arrow:before {content: \"▸\";float: left;margin-right: 0.25em;color: #696969;}#sk-container-id-1 label.sk-toggleable__label-arrow:hover:before {color: black;}#sk-container-id-1 div.sk-estimator:hover label.sk-toggleable__label-arrow:before {color: black;}#sk-container-id-1 div.sk-toggleable__content {max-height: 0;max-width: 0;overflow: hidden;text-align: left;background-color: #f0f8ff;}#sk-container-id-1 div.sk-toggleable__content pre {margin: 0.2em;color: black;border-radius: 0.25em;background-color: #f0f8ff;}#sk-container-id-1 input.sk-toggleable__control:checked~div.sk-toggleable__content {max-height: 200px;max-width: 100%;overflow: auto;}#sk-container-id-1 input.sk-toggleable__control:checked~label.sk-toggleable__label-arrow:before {content: \"▾\";}#sk-container-id-1 div.sk-estimator input.sk-toggleable__control:checked~label.sk-toggleable__label {background-color: #d4ebff;}#sk-container-id-1 div.sk-label input.sk-toggleable__control:checked~label.sk-toggleable__label {background-color: #d4ebff;}#sk-container-id-1 input.sk-hidden--visually {border: 0;clip: rect(1px 1px 1px 1px);clip: rect(1px, 1px, 1px, 1px);height: 1px;margin: -1px;overflow: hidden;padding: 0;position: absolute;width: 1px;}#sk-container-id-1 div.sk-estimator {font-family: monospace;background-color: #f0f8ff;border: 1px dotted black;border-radius: 0.25em;box-sizing: border-box;margin-bottom: 0.5em;}#sk-container-id-1 div.sk-estimator:hover {background-color: #d4ebff;}#sk-container-id-1 div.sk-parallel-item::after {content: \"\";width: 100%;border-bottom: 1px solid gray;flex-grow: 1;}#sk-container-id-1 div.sk-label:hover label.sk-toggleable__label {background-color: #d4ebff;}#sk-container-id-1 div.sk-serial::before {content: \"\";position: absolute;border-left: 1px solid gray;box-sizing: border-box;top: 0;bottom: 0;left: 50%;z-index: 0;}#sk-container-id-1 div.sk-serial {display: flex;flex-direction: column;align-items: center;background-color: white;padding-right: 0.2em;padding-left: 0.2em;position: relative;}#sk-container-id-1 div.sk-item {position: relative;z-index: 1;}#sk-container-id-1 div.sk-parallel {display: flex;align-items: stretch;justify-content: center;background-color: white;position: relative;}#sk-container-id-1 div.sk-item::before, #sk-container-id-1 div.sk-parallel-item::before {content: \"\";position: absolute;border-left: 1px solid gray;box-sizing: border-box;top: 0;bottom: 0;left: 50%;z-index: -1;}#sk-container-id-1 div.sk-parallel-item {display: flex;flex-direction: column;z-index: 1;position: relative;background-color: white;}#sk-container-id-1 div.sk-parallel-item:first-child::after {align-self: flex-end;width: 50%;}#sk-container-id-1 div.sk-parallel-item:last-child::after {align-self: flex-start;width: 50%;}#sk-container-id-1 div.sk-parallel-item:only-child::after {width: 0;}#sk-container-id-1 div.sk-dashed-wrapped {border: 1px dashed gray;margin: 0 0.4em 0.5em 0.4em;box-sizing: border-box;padding-bottom: 0.4em;background-color: white;}#sk-container-id-1 div.sk-label label {font-family: monospace;font-weight: bold;display: inline-block;line-height: 1.2em;}#sk-container-id-1 div.sk-label-container {text-align: center;}#sk-container-id-1 div.sk-container {/* jupyter's `normalize.less` sets `[hidden] { display: none; }` but bootstrap.min.css set `[hidden] { display: none !important; }` so we also need the `!important` here to be able to override the default hidden behavior on the sphinx rendered scikit-learn.org. See: https://github.com/scikit-learn/scikit-learn/issues/21755 */display: inline-block !important;position: relative;}#sk-container-id-1 div.sk-text-repr-fallback {display: none;}</style><div id=\"sk-container-id-1\" class=\"sk-top-container\"><div class=\"sk-text-repr-fallback\"><pre>KNeighborsClassifier(n_neighbors=1)</pre><b>In a Jupyter environment, please rerun this cell to show the HTML representation or trust the notebook. <br />On GitHub, the HTML representation is unable to render, please try loading this page with nbviewer.org.</b></div><div class=\"sk-container\" hidden><div class=\"sk-item\"><div class=\"sk-estimator sk-toggleable\"><input class=\"sk-toggleable__control sk-hidden--visually\" id=\"sk-estimator-id-1\" type=\"checkbox\" checked><label for=\"sk-estimator-id-1\" class=\"sk-toggleable__label sk-toggleable__label-arrow\">KNeighborsClassifier</label><div class=\"sk-toggleable__content\"><pre>KNeighborsClassifier(n_neighbors=1)</pre></div></div></div></div></div>"
     },
     "execution_count": 14,
     "metadata": {},
     "output_type": "execute_result"
    }
   ],
   "source": [
    "from sklearn.neighbors import KNeighborsClassifier as knn\n",
    "model=knn(n_neighbors=1)\n",
    "model.fit(x_train,y_train)"
   ],
   "metadata": {
    "collapsed": false,
    "ExecuteTime": {
     "end_time": "2023-11-02T22:58:47.695570800Z",
     "start_time": "2023-11-02T22:58:38.148082600Z"
    }
   },
   "id": "27b2a2dde5041aaf"
  },
  {
   "cell_type": "code",
   "execution_count": 15,
   "outputs": [
    {
     "name": "stdout",
     "output_type": "stream",
     "text": [
      "0.7497507477567298\n",
      "0.7428998505231689\n"
     ]
    }
   ],
   "source": [
    "print(model.score(x_test,y_test))\n",
    "print(model.score(x_validation,y_validation))"
   ],
   "metadata": {
    "collapsed": false,
    "ExecuteTime": {
     "end_time": "2023-11-02T22:58:47.828815500Z",
     "start_time": "2023-11-02T22:58:47.698581400Z"
    }
   },
   "id": "6939a5adc29cee4b"
  },
  {
   "cell_type": "code",
   "execution_count": 16,
   "outputs": [
    {
     "name": "stdout",
     "output_type": "stream",
     "text": [
      "0.7602193419740778\n",
      "0.7688091679123069\n"
     ]
    }
   ],
   "source": [
    "model.n_neighbors=10\n",
    "print(model.score(x_test,y_test))\n",
    "print(model.score(x_validation,y_validation))"
   ],
   "metadata": {
    "collapsed": false,
    "ExecuteTime": {
     "end_time": "2023-11-02T22:58:49.810194100Z",
     "start_time": "2023-11-02T22:58:49.616009200Z"
    }
   },
   "id": "d614114ab0bc8cfb"
  },
  {
   "cell_type": "code",
   "execution_count": 17,
   "outputs": [
    {
     "name": "stdout",
     "output_type": "stream",
     "text": [
      "0.7058823529411765\n",
      "0.7130044843049327\n"
     ]
    }
   ],
   "source": [
    "model.n_neighbors=600\n",
    "print(model.score(x_test,y_test))\n",
    "print(model.score(x_validation,y_validation))"
   ],
   "metadata": {
    "collapsed": false,
    "ExecuteTime": {
     "end_time": "2023-11-02T22:58:52.979124100Z",
     "start_time": "2023-11-02T22:58:51.988582100Z"
    }
   },
   "id": "5b16c1e1ef64ae59"
  },
  {
   "cell_type": "code",
   "execution_count": 18,
   "outputs": [
    {
     "name": "stdout",
     "output_type": "stream",
     "text": [
      "1\n",
      "2\n",
      "3\n",
      "4\n",
      "5\n",
      "6\n",
      "7\n",
      "8\n",
      "9\n",
      "10\n",
      "11\n",
      "12\n",
      "13\n",
      "14\n",
      "15\n",
      "16\n",
      "17\n",
      "18\n",
      "19\n",
      "20\n",
      "21\n",
      "22\n",
      "23\n",
      "24\n",
      "25\n",
      "26\n",
      "27\n",
      "28\n",
      "29\n",
      "30\n",
      "31\n",
      "32\n",
      "33\n",
      "34\n",
      "35\n",
      "36\n",
      "37\n",
      "38\n",
      "39\n",
      "40\n",
      "41\n",
      "42\n",
      "43\n",
      "44\n",
      "45\n",
      "46\n",
      "47\n",
      "48\n",
      "49\n",
      "50\n",
      "51\n",
      "52\n",
      "53\n",
      "54\n",
      "55\n",
      "56\n",
      "57\n"
     ]
    },
    {
     "ename": "KeyboardInterrupt",
     "evalue": "",
     "output_type": "error",
     "traceback": [
      "\u001B[1;31m---------------------------------------------------------------------------\u001B[0m",
      "\u001B[1;31mKeyboardInterrupt\u001B[0m                         Traceback (most recent call last)",
      "Cell \u001B[1;32mIn[18], line 6\u001B[0m\n\u001B[0;32m      4\u001B[0m \u001B[38;5;28mprint\u001B[39m(k)\n\u001B[0;32m      5\u001B[0m model\u001B[38;5;241m.\u001B[39mn_neighbors\u001B[38;5;241m=\u001B[39mk\n\u001B[1;32m----> 6\u001B[0m test_scores\u001B[38;5;241m.\u001B[39mappend(\u001B[43mmodel\u001B[49m\u001B[38;5;241;43m.\u001B[39;49m\u001B[43mscore\u001B[49m\u001B[43m(\u001B[49m\u001B[43mx_test\u001B[49m\u001B[43m,\u001B[49m\u001B[43my_test\u001B[49m\u001B[43m)\u001B[49m)\n\u001B[0;32m      7\u001B[0m validation_scores\u001B[38;5;241m.\u001B[39mappend(model\u001B[38;5;241m.\u001B[39mscore(x_validation,y_validation))      \n",
      "File \u001B[1;32m~\\Desktop\\pythonProject11\\venv\\Lib\\site-packages\\sklearn\\base.py:706\u001B[0m, in \u001B[0;36mClassifierMixin.score\u001B[1;34m(self, X, y, sample_weight)\u001B[0m\n\u001B[0;32m    681\u001B[0m \u001B[38;5;250m\u001B[39m\u001B[38;5;124;03m\"\"\"\u001B[39;00m\n\u001B[0;32m    682\u001B[0m \u001B[38;5;124;03mReturn the mean accuracy on the given test data and labels.\u001B[39;00m\n\u001B[0;32m    683\u001B[0m \n\u001B[1;32m   (...)\u001B[0m\n\u001B[0;32m    702\u001B[0m \u001B[38;5;124;03m    Mean accuracy of ``self.predict(X)`` w.r.t. `y`.\u001B[39;00m\n\u001B[0;32m    703\u001B[0m \u001B[38;5;124;03m\"\"\"\u001B[39;00m\n\u001B[0;32m    704\u001B[0m \u001B[38;5;28;01mfrom\u001B[39;00m \u001B[38;5;21;01m.\u001B[39;00m\u001B[38;5;21;01mmetrics\u001B[39;00m \u001B[38;5;28;01mimport\u001B[39;00m accuracy_score\n\u001B[1;32m--> 706\u001B[0m \u001B[38;5;28;01mreturn\u001B[39;00m accuracy_score(y, \u001B[38;5;28;43mself\u001B[39;49m\u001B[38;5;241;43m.\u001B[39;49m\u001B[43mpredict\u001B[49m\u001B[43m(\u001B[49m\u001B[43mX\u001B[49m\u001B[43m)\u001B[49m, sample_weight\u001B[38;5;241m=\u001B[39msample_weight)\n",
      "File \u001B[1;32m~\\Desktop\\pythonProject11\\venv\\Lib\\site-packages\\sklearn\\neighbors\\_classification.py:284\u001B[0m, in \u001B[0;36mKNeighborsClassifier.predict\u001B[1;34m(self, X)\u001B[0m\n\u001B[0;32m    282\u001B[0m \u001B[38;5;28;01mfor\u001B[39;00m k, classes_k \u001B[38;5;129;01min\u001B[39;00m \u001B[38;5;28menumerate\u001B[39m(classes_):\n\u001B[0;32m    283\u001B[0m     \u001B[38;5;28;01mif\u001B[39;00m weights \u001B[38;5;129;01mis\u001B[39;00m \u001B[38;5;28;01mNone\u001B[39;00m:\n\u001B[1;32m--> 284\u001B[0m         mode, _ \u001B[38;5;241m=\u001B[39m \u001B[43m_mode\u001B[49m\u001B[43m(\u001B[49m\u001B[43m_y\u001B[49m\u001B[43m[\u001B[49m\u001B[43mneigh_ind\u001B[49m\u001B[43m,\u001B[49m\u001B[43m \u001B[49m\u001B[43mk\u001B[49m\u001B[43m]\u001B[49m\u001B[43m,\u001B[49m\u001B[43m \u001B[49m\u001B[43maxis\u001B[49m\u001B[38;5;241;43m=\u001B[39;49m\u001B[38;5;241;43m1\u001B[39;49m\u001B[43m)\u001B[49m\n\u001B[0;32m    285\u001B[0m     \u001B[38;5;28;01melse\u001B[39;00m:\n\u001B[0;32m    286\u001B[0m         mode, _ \u001B[38;5;241m=\u001B[39m weighted_mode(_y[neigh_ind, k], weights, axis\u001B[38;5;241m=\u001B[39m\u001B[38;5;241m1\u001B[39m)\n",
      "File \u001B[1;32m~\\Desktop\\pythonProject11\\venv\\Lib\\site-packages\\sklearn\\utils\\fixes.py:104\u001B[0m, in \u001B[0;36m_mode\u001B[1;34m(a, axis)\u001B[0m\n\u001B[0;32m    102\u001B[0m \u001B[38;5;28;01mdef\u001B[39;00m \u001B[38;5;21m_mode\u001B[39m(a, axis\u001B[38;5;241m=\u001B[39m\u001B[38;5;241m0\u001B[39m):\n\u001B[0;32m    103\u001B[0m     \u001B[38;5;28;01mif\u001B[39;00m sp_version \u001B[38;5;241m>\u001B[39m\u001B[38;5;241m=\u001B[39m parse_version(\u001B[38;5;124m\"\u001B[39m\u001B[38;5;124m1.9.0\u001B[39m\u001B[38;5;124m\"\u001B[39m):\n\u001B[1;32m--> 104\u001B[0m         mode \u001B[38;5;241m=\u001B[39m \u001B[43mscipy\u001B[49m\u001B[38;5;241;43m.\u001B[39;49m\u001B[43mstats\u001B[49m\u001B[38;5;241;43m.\u001B[39;49m\u001B[43mmode\u001B[49m\u001B[43m(\u001B[49m\u001B[43ma\u001B[49m\u001B[43m,\u001B[49m\u001B[43m \u001B[49m\u001B[43maxis\u001B[49m\u001B[38;5;241;43m=\u001B[39;49m\u001B[43maxis\u001B[49m\u001B[43m,\u001B[49m\u001B[43m \u001B[49m\u001B[43mkeepdims\u001B[49m\u001B[38;5;241;43m=\u001B[39;49m\u001B[38;5;28;43;01mTrue\u001B[39;49;00m\u001B[43m)\u001B[49m\n\u001B[0;32m    105\u001B[0m         \u001B[38;5;28;01mif\u001B[39;00m sp_version \u001B[38;5;241m>\u001B[39m\u001B[38;5;241m=\u001B[39m parse_version(\u001B[38;5;124m\"\u001B[39m\u001B[38;5;124m1.10.999\u001B[39m\u001B[38;5;124m\"\u001B[39m):\n\u001B[0;32m    106\u001B[0m             \u001B[38;5;66;03m# scipy.stats.mode has changed returned array shape with axis=None\u001B[39;00m\n\u001B[0;32m    107\u001B[0m             \u001B[38;5;66;03m# and keepdims=True, see https://github.com/scipy/scipy/pull/17561\u001B[39;00m\n\u001B[0;32m    108\u001B[0m             \u001B[38;5;28;01mif\u001B[39;00m axis \u001B[38;5;129;01mis\u001B[39;00m \u001B[38;5;28;01mNone\u001B[39;00m:\n",
      "File \u001B[1;32m~\\Desktop\\pythonProject11\\venv\\Lib\\site-packages\\scipy\\stats\\_axis_nan_policy.py:591\u001B[0m, in \u001B[0;36m_axis_nan_policy_factory.<locals>.axis_nan_policy_decorator.<locals>.axis_nan_policy_wrapper\u001B[1;34m(***failed resolving arguments***)\u001B[0m\n\u001B[0;32m    588\u001B[0m         \u001B[38;5;28;01mreturn\u001B[39;00m result_to_tuple(hypotest_fun_out(\u001B[38;5;241m*\u001B[39msamples, \u001B[38;5;241m*\u001B[39m\u001B[38;5;241m*\u001B[39mkwds))\n\u001B[0;32m    590\u001B[0m x \u001B[38;5;241m=\u001B[39m np\u001B[38;5;241m.\u001B[39mmoveaxis(x, axis, \u001B[38;5;241m0\u001B[39m)\n\u001B[1;32m--> 591\u001B[0m res \u001B[38;5;241m=\u001B[39m \u001B[43mnp\u001B[49m\u001B[38;5;241;43m.\u001B[39;49m\u001B[43mapply_along_axis\u001B[49m\u001B[43m(\u001B[49m\u001B[43mhypotest_fun\u001B[49m\u001B[43m,\u001B[49m\u001B[43m \u001B[49m\u001B[43maxis\u001B[49m\u001B[38;5;241;43m=\u001B[39;49m\u001B[38;5;241;43m0\u001B[39;49m\u001B[43m,\u001B[49m\u001B[43m \u001B[49m\u001B[43marr\u001B[49m\u001B[38;5;241;43m=\u001B[39;49m\u001B[43mx\u001B[49m\u001B[43m)\u001B[49m\n\u001B[0;32m    592\u001B[0m res \u001B[38;5;241m=\u001B[39m _add_reduced_axes(res, reduced_axes, keepdims)\n\u001B[0;32m    593\u001B[0m \u001B[38;5;28;01mreturn\u001B[39;00m tuple_to_result(\u001B[38;5;241m*\u001B[39mres)\n",
      "File \u001B[1;32m~\\Desktop\\pythonProject11\\venv\\Lib\\site-packages\\numpy\\lib\\shape_base.py:402\u001B[0m, in \u001B[0;36mapply_along_axis\u001B[1;34m(func1d, axis, arr, *args, **kwargs)\u001B[0m\n\u001B[0;32m    400\u001B[0m buff[ind0] \u001B[38;5;241m=\u001B[39m res\n\u001B[0;32m    401\u001B[0m \u001B[38;5;28;01mfor\u001B[39;00m ind \u001B[38;5;129;01min\u001B[39;00m inds:\n\u001B[1;32m--> 402\u001B[0m     buff[ind] \u001B[38;5;241m=\u001B[39m asanyarray(\u001B[43mfunc1d\u001B[49m\u001B[43m(\u001B[49m\u001B[43minarr_view\u001B[49m\u001B[43m[\u001B[49m\u001B[43mind\u001B[49m\u001B[43m]\u001B[49m\u001B[43m,\u001B[49m\u001B[43m \u001B[49m\u001B[38;5;241;43m*\u001B[39;49m\u001B[43margs\u001B[49m\u001B[43m,\u001B[49m\u001B[43m \u001B[49m\u001B[38;5;241;43m*\u001B[39;49m\u001B[38;5;241;43m*\u001B[39;49m\u001B[43mkwargs\u001B[49m\u001B[43m)\u001B[49m)\n\u001B[0;32m    404\u001B[0m \u001B[38;5;28;01mif\u001B[39;00m \u001B[38;5;129;01mnot\u001B[39;00m \u001B[38;5;28misinstance\u001B[39m(res, matrix):\n\u001B[0;32m    405\u001B[0m     \u001B[38;5;66;03m# wrap the array, to preserve subclasses\u001B[39;00m\n\u001B[0;32m    406\u001B[0m     buff \u001B[38;5;241m=\u001B[39m res\u001B[38;5;241m.\u001B[39m__array_wrap__(buff)\n",
      "File \u001B[1;32m~\\Desktop\\pythonProject11\\venv\\Lib\\site-packages\\scipy\\stats\\_axis_nan_policy.py:588\u001B[0m, in \u001B[0;36m_axis_nan_policy_factory.<locals>.axis_nan_policy_decorator.<locals>.axis_nan_policy_wrapper.<locals>.hypotest_fun\u001B[1;34m(x)\u001B[0m\n\u001B[0;32m    586\u001B[0m \u001B[38;5;28;01mif\u001B[39;00m is_too_small(samples):\n\u001B[0;32m    587\u001B[0m     \u001B[38;5;28;01mreturn\u001B[39;00m np\u001B[38;5;241m.\u001B[39mfull(n_out, np\u001B[38;5;241m.\u001B[39mnan)\n\u001B[1;32m--> 588\u001B[0m \u001B[38;5;28;01mreturn\u001B[39;00m result_to_tuple(\u001B[43mhypotest_fun_out\u001B[49m\u001B[43m(\u001B[49m\u001B[38;5;241;43m*\u001B[39;49m\u001B[43msamples\u001B[49m\u001B[43m,\u001B[49m\u001B[43m \u001B[49m\u001B[38;5;241;43m*\u001B[39;49m\u001B[38;5;241;43m*\u001B[39;49m\u001B[43mkwds\u001B[49m\u001B[43m)\u001B[49m)\n",
      "File \u001B[1;32m~\\Desktop\\pythonProject11\\venv\\Lib\\site-packages\\scipy\\stats\\_stats_py.py:517\u001B[0m, in \u001B[0;36mmode\u001B[1;34m(a, axis, nan_policy, keepdims)\u001B[0m\n\u001B[0;32m    514\u001B[0m     NaN \u001B[38;5;241m=\u001B[39m _get_nan(a)\n\u001B[0;32m    515\u001B[0m     \u001B[38;5;28;01mreturn\u001B[39;00m ModeResult(\u001B[38;5;241m*\u001B[39mnp\u001B[38;5;241m.\u001B[39marray([NaN, \u001B[38;5;241m0\u001B[39m], dtype\u001B[38;5;241m=\u001B[39mNaN\u001B[38;5;241m.\u001B[39mdtype))\n\u001B[1;32m--> 517\u001B[0m vals, cnts \u001B[38;5;241m=\u001B[39m \u001B[43mnp\u001B[49m\u001B[38;5;241;43m.\u001B[39;49m\u001B[43munique\u001B[49m\u001B[43m(\u001B[49m\u001B[43ma\u001B[49m\u001B[43m,\u001B[49m\u001B[43m \u001B[49m\u001B[43mreturn_counts\u001B[49m\u001B[38;5;241;43m=\u001B[39;49m\u001B[38;5;28;43;01mTrue\u001B[39;49;00m\u001B[43m)\u001B[49m\n\u001B[0;32m    518\u001B[0m modes, counts \u001B[38;5;241m=\u001B[39m vals[cnts\u001B[38;5;241m.\u001B[39margmax()], cnts\u001B[38;5;241m.\u001B[39mmax()\n\u001B[0;32m    519\u001B[0m \u001B[38;5;28;01mreturn\u001B[39;00m ModeResult(modes[()], counts[()])\n",
      "File \u001B[1;32m~\\Desktop\\pythonProject11\\venv\\Lib\\site-packages\\numpy\\lib\\arraysetops.py:274\u001B[0m, in \u001B[0;36munique\u001B[1;34m(ar, return_index, return_inverse, return_counts, axis, equal_nan)\u001B[0m\n\u001B[0;32m    272\u001B[0m ar \u001B[38;5;241m=\u001B[39m np\u001B[38;5;241m.\u001B[39masanyarray(ar)\n\u001B[0;32m    273\u001B[0m \u001B[38;5;28;01mif\u001B[39;00m axis \u001B[38;5;129;01mis\u001B[39;00m \u001B[38;5;28;01mNone\u001B[39;00m:\n\u001B[1;32m--> 274\u001B[0m     ret \u001B[38;5;241m=\u001B[39m \u001B[43m_unique1d\u001B[49m\u001B[43m(\u001B[49m\u001B[43mar\u001B[49m\u001B[43m,\u001B[49m\u001B[43m \u001B[49m\u001B[43mreturn_index\u001B[49m\u001B[43m,\u001B[49m\u001B[43m \u001B[49m\u001B[43mreturn_inverse\u001B[49m\u001B[43m,\u001B[49m\u001B[43m \u001B[49m\u001B[43mreturn_counts\u001B[49m\u001B[43m,\u001B[49m\u001B[43m \u001B[49m\n\u001B[0;32m    275\u001B[0m \u001B[43m                    \u001B[49m\u001B[43mequal_nan\u001B[49m\u001B[38;5;241;43m=\u001B[39;49m\u001B[43mequal_nan\u001B[49m\u001B[43m)\u001B[49m\n\u001B[0;32m    276\u001B[0m     \u001B[38;5;28;01mreturn\u001B[39;00m _unpack_tuple(ret)\n\u001B[0;32m    278\u001B[0m \u001B[38;5;66;03m# axis was specified and not None\u001B[39;00m\n",
      "File \u001B[1;32m~\\Desktop\\pythonProject11\\venv\\Lib\\site-packages\\numpy\\lib\\arraysetops.py:336\u001B[0m, in \u001B[0;36m_unique1d\u001B[1;34m(ar, return_index, return_inverse, return_counts, equal_nan)\u001B[0m\n\u001B[0;32m    334\u001B[0m     aux \u001B[38;5;241m=\u001B[39m ar[perm]\n\u001B[0;32m    335\u001B[0m \u001B[38;5;28;01melse\u001B[39;00m:\n\u001B[1;32m--> 336\u001B[0m     ar\u001B[38;5;241m.\u001B[39msort()\n\u001B[0;32m    337\u001B[0m     aux \u001B[38;5;241m=\u001B[39m ar\n\u001B[0;32m    338\u001B[0m mask \u001B[38;5;241m=\u001B[39m np\u001B[38;5;241m.\u001B[39mempty(aux\u001B[38;5;241m.\u001B[39mshape, dtype\u001B[38;5;241m=\u001B[39mnp\u001B[38;5;241m.\u001B[39mbool_)\n",
      "\u001B[1;31mKeyboardInterrupt\u001B[0m: "
     ]
    }
   ],
   "source": [
    "test_scores=[]\n",
    "validation_scores=[]\n",
    "for k in range(1,y_train.shape[0]):\n",
    "      print(k)\n",
    "      model.n_neighbors=k\n",
    "      test_scores.append(model.score(x_test,y_test))\n",
    "      validation_scores.append(model.score(x_validation,y_validation))      "
   ],
   "metadata": {
    "collapsed": false,
    "ExecuteTime": {
     "end_time": "2023-11-02T22:59:09.148278Z",
     "start_time": "2023-11-02T22:58:57.379207100Z"
    }
   },
   "id": "b9c889caf5f27b35"
  },
  {
   "cell_type": "code",
   "execution_count": 19,
   "outputs": [
    {
     "data": {
      "text/plain": "[0.7497507477567298,\n 0.7313060817547358,\n 0.7532402791625125,\n 0.7542372881355932,\n 0.7622133599202393,\n 0.7592223330009971,\n 0.7587238285144566,\n 0.7557328015952144,\n 0.7632103688933201,\n 0.7602193419740778,\n 0.7666999002991027,\n 0.7652043868394816,\n 0.7676969092721835,\n 0.7662013958125623,\n 0.7676969092721835,\n 0.7652043868394816,\n 0.7701894317048853,\n 0.7597208374875374,\n 0.7637088733798604,\n 0.7587238285144566,\n 0.7572283150548355,\n 0.752741774675972,\n 0.7577268195413759,\n 0.7582253240279162,\n 0.7592223330009971,\n 0.7557328015952144,\n 0.7567298105682951,\n 0.7587238285144566,\n 0.7577268195413759,\n 0.7567298105682951,\n 0.755234297108674,\n 0.7557328015952144,\n 0.7597208374875374,\n 0.7577268195413759,\n 0.7587238285144566,\n 0.7582253240279162,\n 0.7587238285144566,\n 0.7557328015952144,\n 0.7602193419740778,\n 0.7587238285144566,\n 0.7582253240279162,\n 0.7562313060817547,\n 0.7562313060817547,\n 0.755234297108674,\n 0.7572283150548355,\n 0.7547357926221336,\n 0.7557328015952144,\n 0.755234297108674,\n 0.7562313060817547,\n 0.7542372881355932,\n 0.7557328015952144,\n 0.7532402791625125,\n 0.755234297108674,\n 0.7517447657028913,\n 0.7542372881355932,\n 0.751246261216351]"
     },
     "execution_count": 19,
     "metadata": {},
     "output_type": "execute_result"
    }
   ],
   "source": [
    "test_scores"
   ],
   "metadata": {
    "collapsed": false,
    "ExecuteTime": {
     "end_time": "2023-11-02T22:59:12.985431300Z",
     "start_time": "2023-11-02T22:59:12.972775700Z"
    }
   },
   "id": "d20ea2f1b455676c"
  },
  {
   "cell_type": "code",
   "execution_count": 20,
   "outputs": [
    {
     "data": {
      "text/plain": "[0.7428998505231689,\n 0.7419033383158944,\n 0.752366716492277,\n 0.750373692077728,\n 0.7623318385650224,\n 0.7623318385650224,\n 0.7722969606377678,\n 0.7668161434977578,\n 0.7752864972595914,\n 0.7688091679123069,\n 0.7722969606377678,\n 0.7678126557050324,\n 0.7717987045341306,\n 0.7693074240159442,\n 0.7683109118086696,\n 0.7668161434977578,\n 0.7683109118086696,\n 0.7668161434977578,\n 0.772795216741405,\n 0.7648231190832088,\n 0.7678126557050324,\n 0.7613353263577479,\n 0.7643248629795715,\n 0.7603388141504733,\n 0.7653213751868461,\n 0.7623318385650224,\n 0.7628300946686597,\n 0.7603388141504733,\n 0.7668161434977578,\n 0.7613353263577479,\n 0.7643248629795715,\n 0.7623318385650224,\n 0.7668161434977578,\n 0.763328350772297,\n 0.7673143996013951,\n 0.7623318385650224,\n 0.7613353263577479,\n 0.7568510214250125,\n 0.7583457897359243,\n 0.7603388141504733,\n 0.7588440458395616,\n 0.757847533632287,\n 0.759840558046836,\n 0.7538614848031888,\n 0.7568510214250125,\n 0.7563527653213752,\n 0.7568510214250125,\n 0.7553562531141006,\n 0.7588440458395616,\n 0.7553562531141006,\n 0.7558545092177379,\n 0.7563527653213752,\n 0.757847533632287,\n 0.7573492775286498,\n 0.7608370702541106,\n 0.7558545092177379]"
     },
     "execution_count": 20,
     "metadata": {},
     "output_type": "execute_result"
    }
   ],
   "source": [
    "validation_scores"
   ],
   "metadata": {
    "collapsed": false,
    "ExecuteTime": {
     "end_time": "2023-11-02T22:59:14.269547Z",
     "start_time": "2023-11-02T22:59:14.253393700Z"
    }
   },
   "id": "b023be1e93f5941c"
  },
  {
   "cell_type": "code",
   "execution_count": 21,
   "outputs": [
    {
     "data": {
      "text/plain": "8"
     },
     "execution_count": 21,
     "metadata": {},
     "output_type": "execute_result"
    }
   ],
   "source": [
    "np.argmax(validation_scores)"
   ],
   "metadata": {
    "collapsed": false,
    "ExecuteTime": {
     "end_time": "2023-11-02T22:59:15.608867Z",
     "start_time": "2023-11-02T22:59:15.596939800Z"
    }
   },
   "id": "4ae16be4860f1d47"
  },
  {
   "cell_type": "code",
   "execution_count": 22,
   "outputs": [
    {
     "data": {
      "text/plain": "16"
     },
     "execution_count": 22,
     "metadata": {},
     "output_type": "execute_result"
    }
   ],
   "source": [
    "np.argmax(test_scores)"
   ],
   "metadata": {
    "collapsed": false,
    "ExecuteTime": {
     "end_time": "2023-11-02T22:59:16.692062800Z",
     "start_time": "2023-11-02T22:59:16.671833Z"
    }
   },
   "id": "313ec7d48344b16"
  },
  {
   "cell_type": "code",
   "execution_count": 23,
   "outputs": [
    {
     "data": {
      "text/plain": "0.6904287138584247"
     },
     "execution_count": 23,
     "metadata": {},
     "output_type": "execute_result"
    }
   ],
   "source": [
    "model.n_neighbors=1000\n",
    "model.score(x_test,y_test)"
   ],
   "metadata": {
    "collapsed": false,
    "ExecuteTime": {
     "end_time": "2023-11-02T22:59:18.416789900Z",
     "start_time": "2023-11-02T22:59:17.674707800Z"
    }
   },
   "id": "a29fe011b3fe30d4"
  },
  {
   "cell_type": "code",
   "execution_count": 24,
   "outputs": [
    {
     "name": "stdout",
     "output_type": "stream",
     "text": [
      "{'n_neighbors': 17}\n",
      "Accuracy for our training dataset with tuning is : 77.65%\n"
     ]
    }
   ],
   "source": [
    "from sklearn.neighbors import KNeighborsClassifier\n",
    "from sklearn.model_selection import GridSearchCV\n",
    "KN = KNeighborsClassifier()\n",
    "k_range = list(range(1, 26,2))\n",
    "param_grid = dict(n_neighbors=k_range)\n",
    "grid=GridSearchCV(KN,param_grid,cv=10,scoring='accuracy',return_train_score=True)\n",
    "g=grid.fit(x_train,y_train)\n",
    "print(grid.best_params_)\n",
    "accuracy=grid.best_score_*100\n",
    "print(\"Accuracy for our training dataset with tuning is : {:.2f}%\".format(accuracy) )"
   ],
   "metadata": {
    "collapsed": false,
    "ExecuteTime": {
     "end_time": "2023-11-02T23:00:50.771653Z",
     "start_time": "2023-11-02T22:59:53.804594300Z"
    }
   },
   "id": "bc390c82f93b9a78"
  },
  {
   "cell_type": "code",
   "execution_count": 25,
   "outputs": [
    {
     "name": "stdout",
     "output_type": "stream",
     "text": [
      "0.7701894317048853\n",
      "0.7683109118086696\n"
     ]
    }
   ],
   "source": [
    "knn=KNeighborsClassifier(n_neighbors=grid.best_params_['n_neighbors'])\n",
    "knn.fit(x_train,y_train)\n",
    "y_test_pred=knn.predict(x_test)\n",
    "test_accuracy=knn.score(x_test,y_test)\n",
    "print(test_accuracy)\n",
    "knn=KNeighborsClassifier(n_neighbors=grid.best_params_['n_neighbors'])\n",
    "knn.fit(x_train,y_train)\n",
    "y_validation_pred=knn.predict(x_validation)\n",
    "test_accuracy=knn.score(x_validation,y_validation)\n",
    "print(test_accuracy)"
   ],
   "metadata": {
    "collapsed": false,
    "ExecuteTime": {
     "end_time": "2023-11-02T23:01:37.849742300Z",
     "start_time": "2023-11-02T23:01:37.390783100Z"
    }
   },
   "id": "24f62154dee04bc2"
  },
  {
   "cell_type": "code",
   "execution_count": 26,
   "outputs": [
    {
     "name": "stdout",
     "output_type": "stream",
     "text": [
      "[[885 137]\n",
      " [324 660]]\n",
      "              precision    recall  f1-score   support\n",
      "\n",
      "           g       0.73      0.87      0.79      1022\n",
      "           h       0.83      0.67      0.74       984\n",
      "\n",
      "    accuracy                           0.77      2006\n",
      "   macro avg       0.78      0.77      0.77      2006\n",
      "weighted avg       0.78      0.77      0.77      2006\n"
     ]
    },
    {
     "data": {
      "text/plain": "<Figure size 640x480 with 2 Axes>",
      "image/png": "[encoded data removed]"
     },
     "metadata": {},
     "output_type": "display_data"
    }
   ],
   "source": [
    "from sklearn.metrics import confusion_matrix,classification_report\n",
    "from sklearn.metrics import ConfusionMatrixDisplay\n",
    "import matplotlib.pyplot as plt\n",
    "matix=confusion_matrix(y_test,y_test_pred)\n",
    "print(matix)\n",
    "print(classification_report(y_test,y_test_pred))\n",
    "disp = ConfusionMatrixDisplay(confusion_matrix=matix,display_labels=['g','h'])\n",
    "disp = disp.plot(cmap=plt.cm.Blues)"
   ],
   "metadata": {
    "collapsed": false,
    "ExecuteTime": {
     "end_time": "2023-11-02T23:04:57.291244300Z",
     "start_time": "2023-11-02T23:04:56.585507900Z"
    }
   },
   "id": "49c095c00fbe7dec"
  },
  {
   "cell_type": "code",
   "execution_count": 27,
   "outputs": [
    {
     "data": {
      "text/plain": "   param_n_neighbors  mean_train_score  mean_test_score\n0                  1          1.000000         0.739398\n1                  3          0.868798         0.765031\n2                  5          0.842916         0.769089\n3                  7          0.826682         0.771760\n4                  9          0.815907         0.774964\n5                 11          0.808537         0.775392\n6                 13          0.804894         0.775713\n7                 15          0.800574         0.774218\n8                 17          0.797667         0.776461\n9                 19          0.794558         0.774217\n10                21          0.793015         0.774753\n11                23          0.791104         0.772722\n12                25          0.788387         0.770266",
      "text/html": "<div>\n<style scoped>\n    .dataframe tbody tr th:only-of-type {\n        vertical-align: middle;\n    }\n\n    .dataframe tbody tr th {\n        vertical-align: top;\n    }\n\n    .dataframe thead th {\n        text-align: right;\n    }\n</style>\n<table border=\"1\" class=\"dataframe\">\n  <thead>\n    <tr style=\"text-align: right;\">\n      <th></th>\n      <th>param_n_neighbors</th>\n      <th>mean_train_score</th>\n      <th>mean_test_score</th>\n    </tr>\n  </thead>\n  <tbody>\n    <tr>\n      <th>0</th>\n      <td>1</td>\n      <td>1.000000</td>\n      <td>0.739398</td>\n    </tr>\n    <tr>\n      <th>1</th>\n      <td>3</td>\n      <td>0.868798</td>\n      <td>0.765031</td>\n    </tr>\n    <tr>\n      <th>2</th>\n      <td>5</td>\n      <td>0.842916</td>\n      <td>0.769089</td>\n    </tr>\n    <tr>\n      <th>3</th>\n      <td>7</td>\n      <td>0.826682</td>\n      <td>0.771760</td>\n    </tr>\n    <tr>\n      <th>4</th>\n      <td>9</td>\n      <td>0.815907</td>\n      <td>0.774964</td>\n    </tr>\n    <tr>\n      <th>5</th>\n      <td>11</td>\n      <td>0.808537</td>\n      <td>0.775392</td>\n    </tr>\n    <tr>\n      <th>6</th>\n      <td>13</td>\n      <td>0.804894</td>\n      <td>0.775713</td>\n    </tr>\n    <tr>\n      <th>7</th>\n      <td>15</td>\n      <td>0.800574</td>\n      <td>0.774218</td>\n    </tr>\n    <tr>\n      <th>8</th>\n      <td>17</td>\n      <td>0.797667</td>\n      <td>0.776461</td>\n    </tr>\n    <tr>\n      <th>9</th>\n      <td>19</td>\n      <td>0.794558</td>\n      <td>0.774217</td>\n    </tr>\n    <tr>\n      <th>10</th>\n      <td>21</td>\n      <td>0.793015</td>\n      <td>0.774753</td>\n    </tr>\n    <tr>\n      <th>11</th>\n      <td>23</td>\n      <td>0.791104</td>\n      <td>0.772722</td>\n    </tr>\n    <tr>\n      <th>12</th>\n      <td>25</td>\n      <td>0.788387</td>\n      <td>0.770266</td>\n    </tr>\n  </tbody>\n</table>\n</div>"
     },
     "execution_count": 27,
     "metadata": {},
     "output_type": "execute_result"
    }
   ],
   "source": [
    "import pandas as pd\n",
    "results = pd.DataFrame(g.cv_results_)\n",
    "needed_results=results[['param_n_neighbors','mean_train_score','mean_test_score']]\n",
    "needed_results"
   ],
   "metadata": {
    "collapsed": false,
    "ExecuteTime": {
     "end_time": "2023-11-02T23:06:26.391258300Z",
     "start_time": "2023-11-02T23:06:26.326297900Z"
    }
   },
   "id": "1e0779bc70a6c2f8"
  },
  {
   "cell_type": "code",
   "execution_count": null,
   "outputs": [],
   "source": [],
   "metadata": {
    "collapsed": false
   },
   "id": "f464e83f0ac8d745"
  }
 ],
 "metadata": {
  "kernelspec": {
   "display_name": "Python 3 (ipykernel)",
   "language": "python",
   "name": "python3"
  },
  "language_info": {
   "codemirror_mode": {
    "name": "ipython",
    "version": 3
   },
   "file_extension": ".py",
   "mimetype": "text/x-python",
   "name": "python",
   "nbconvert_exporter": "python",
   "pygments_lexer": "ipython3",
   "version": "3.9.12"
  }
 },
 "nbformat": 4,
 "nbformat_minor": 5
}
