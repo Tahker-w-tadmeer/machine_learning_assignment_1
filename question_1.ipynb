{
 "cells": [
  {
   "cell_type": "markdown",
   "source": [
    "# Magic Dataset\n",
    "## Introduction\n",
    "We are supposed to use this 'magic' dataset to generate a prediction of wether the energy particles are of type gamma (g) or hadron (h)."
   ],
   "metadata": {
    "collapsed": false
   },
   "id": "af798ce8c8893b71"
  },
  {
   "cell_type": "code",
   "execution_count": 22,
   "outputs": [],
   "source": [
    "import numpy as np"
   ],
   "metadata": {
    "collapsed": false,
    "ExecuteTime": {
     "start_time": "2023-11-04T02:55:38.368331Z"
    }
   },
   "id": "8b3ddf79"
  },
  {
   "cell_type": "markdown",
   "source": [
    "## Loading data\n",
    "We are loading the data from file using numpy genfromtext function.\n",
    "Which will load all the features in a hashmap like data structure to help us easily manipulate the data "
   ],
   "metadata": {
    "collapsed": false
   },
   "id": "736bc02579f11db5"
  },
  {
   "cell_type": "code",
   "execution_count": 23,
   "id": "9be6cf901d1d50c9",
   "metadata": {
    "ExecuteTime": {
     "end_time": "2023-11-04T02:55:38.496775Z",
     "start_time": "2023-11-04T02:55:38.371276Z"
    }
   },
   "outputs": [
    {
     "data": {
      "text/plain": "array([( 28.7967,  16.0021, 2.6449, 0.3918, 0.1982,   27.7004,   22.011 ,  -8.2027, 40.092 ,  81.8828, 'g'),\n       ( 31.6036,  11.7235, 2.5185, 0.5303, 0.3773,   26.2722,   23.8238,  -9.9574,  6.3609, 205.261 , 'g'),\n       (162.052 , 136.031 , 4.0612, 0.0374, 0.0187,  116.741 ,  -64.858 , -45.216 , 76.96  , 256.788 , 'g'),\n       ...,\n       ( 75.4455,  47.5305, 3.4483, 0.1417, 0.0549,   -9.3561,   41.0562,  -9.4662, 30.2987, 256.5166, 'h'),\n       (120.5135,  76.9018, 3.9939, 0.0944, 0.0683,    5.8043,  -93.5224, -63.8389, 84.6874, 408.3166, 'h'),\n       (187.1814,  53.0014, 3.2093, 0.2876, 0.1539, -167.3125, -168.4558,  31.4755, 52.731 , 272.3174, 'h')],\n      dtype=[('f0', '<f8'), ('f1', '<f8'), ('f2', '<f8'), ('f3', '<f8'), ('f4', '<f8'), ('f5', '<f8'), ('f6', '<f8'), ('f7', '<f8'), ('f8', '<f8'), ('f9', '<f8'), ('f10', '<U1')])"
     },
     "execution_count": 23,
     "metadata": {},
     "output_type": "execute_result"
    }
   ],
   "source": [
    "data_set = np.genfromtxt('magic04.data', delimiter=',', dtype=None, encoding='utf-8')\n",
    "data_set"
   ]
  },
  {
   "cell_type": "markdown",
   "source": [
    "## Separating Gammas from Hadrons\n",
    "In order to make both datasets equal in size we will separate Gs from Hs.\n",
    "Knowing that gamma data is in the first 12332 rows we separate the gamma in a variable called g_class\n",
    "### Gamma data "
   ],
   "metadata": {
    "collapsed": false
   },
   "id": "ef0979632750ef02"
  },
  {
   "cell_type": "code",
   "execution_count": 49,
   "outputs": [
    {
     "data": {
      "text/plain": "array([( 28.7967,  16.0021, 2.6449, 0.3918, 0.1982,  27.7004,  22.011 ,  -8.2027, 40.092 ,  81.8828, 'g'),\n       ( 31.6036,  11.7235, 2.5185, 0.5303, 0.3773,  26.2722,  23.8238,  -9.9574,  6.3609, 205.261 , 'g'),\n       (162.052 , 136.031 , 4.0612, 0.0374, 0.0187, 116.741 , -64.858 , -45.216 , 76.96  , 256.788 , 'g'),\n       ...,\n       ( 22.0913,  10.8949, 2.2945, 0.5381, 0.2919,  15.2776,  18.2296,   7.3975, 21.068 , 123.281 , 'g'),\n       ( 56.2216,  18.7019, 2.9297, 0.2516, 0.1393,  96.5758, -41.2969,  11.3764,  5.911 , 197.209 , 'g'),\n       ( 31.5125,  19.2867, 2.9578, 0.2975, 0.1515,  38.1833,  21.6729, -12.0726, 17.5809, 171.227 , 'g')],\n      dtype=[('f0', '<f8'), ('f1', '<f8'), ('f2', '<f8'), ('f3', '<f8'), ('f4', '<f8'), ('f5', '<f8'), ('f6', '<f8'), ('f7', '<f8'), ('f8', '<f8'), ('f9', '<f8'), ('f10', '<U1')])"
     },
     "execution_count": 49,
     "metadata": {},
     "output_type": "execute_result"
    }
   ],
   "source": [
    "g_class=data_set[:12332]\n",
    "g_class"
   ],
   "metadata": {
    "collapsed": false,
    "ExecuteTime": {
     "end_time": "2023-11-04T09:46:58.718771Z",
     "start_time": "2023-11-04T09:46:58.709589Z"
    }
   },
   "id": "66fd67de"
  },
  {
   "cell_type": "markdown",
   "source": [
    "### Hadron data"
   ],
   "metadata": {
    "collapsed": false
   },
   "id": "f11d866469d7399c"
  },
  {
   "cell_type": "code",
   "execution_count": 25,
   "outputs": [
    {
     "data": {
      "text/plain": "array([( 93.7035, 37.9432, 3.1454, 0.168 , 0.1011,   53.2566,   89.0566,  11.8175, 14.1224, 231.9028, 'h'),\n       (102.0005, 22.0017, 3.3161, 0.1064, 0.0724,  -54.0862,   43.0553, -15.0647, 88.4636, 274.9392, 'h'),\n       (100.2775, 21.8784, 3.11  , 0.312 , 0.1446,  -48.1834,   57.6547,  -9.6341, 20.7848, 346.433 , 'h'),\n       ...,\n       ( 75.4455, 47.5305, 3.4483, 0.1417, 0.0549,   -9.3561,   41.0562,  -9.4662, 30.2987, 256.5166, 'h'),\n       (120.5135, 76.9018, 3.9939, 0.0944, 0.0683,    5.8043,  -93.5224, -63.8389, 84.6874, 408.3166, 'h'),\n       (187.1814, 53.0014, 3.2093, 0.2876, 0.1539, -167.3125, -168.4558,  31.4755, 52.731 , 272.3174, 'h')],\n      dtype=[('f0', '<f8'), ('f1', '<f8'), ('f2', '<f8'), ('f3', '<f8'), ('f4', '<f8'), ('f5', '<f8'), ('f6', '<f8'), ('f7', '<f8'), ('f8', '<f8'), ('f9', '<f8'), ('f10', '<U1')])"
     },
     "execution_count": 25,
     "metadata": {},
     "output_type": "execute_result"
    }
   ],
   "source": [
    "h_class=data_set[12332:]\n",
    "h_class"
   ],
   "metadata": {
    "collapsed": false,
    "ExecuteTime": {
     "end_time": "2023-11-04T02:55:38.511460Z",
     "start_time": "2023-11-04T02:55:38.503566Z"
    }
   },
   "id": "1197ab4a3deb1957"
  },
  {
   "cell_type": "markdown",
   "source": [
    "## Making Gs the same size as Hs\n",
    "We are taking a random 6688 rows from the gamma array to make both datasets equal"
   ],
   "metadata": {
    "collapsed": false
   },
   "id": "e12164f0faea97b2"
  },
  {
   "cell_type": "code",
   "execution_count": 26,
   "outputs": [
    {
     "name": "stdout",
     "output_type": "stream",
     "text": [
      "[(28.7043, 22.2965, 3.0396, 0.2766, 0.1401,  -28.2185, -14.4249, 12.2056, 61.727 , 148.541, 'g')\n",
      " (71.3468, 25.1598, 3.0253, 0.2047, 0.1203, -120.403 ,  51.7147, 14.6913,  8.6575, 211.858, 'g')\n",
      " (21.561 ,  6.7887, 2.07  , 0.7149, 0.4213,   22.5915,  13.3083, -6.4567, 10.302 , 180.155, 'g')\n",
      " ...\n",
      " (12.9774, 11.0775, 2.1945, 0.7476, 0.4441,  -14.3096,   6.7507,  9.7284, 68.4457, 212.57 , 'g')\n",
      " (21.2858, 11.4472, 2.2122, 0.5828, 0.3098,  -11.4379, -19.7686, -8.6863, 50.0471, 238.41 , 'g')\n",
      " (28.971 ,  7.5578, 2.2923, 0.5816, 0.3291,   12.3711,  -7.6712, -5.4745, 41.669 , 110.649, 'g')]\n",
      "(6688,)\n"
     ]
    }
   ],
   "source": [
    "g_class=np.random.choice(g_class,size=6688,replace=False)\n",
    "print(g_class)\n",
    "print(g_class.shape)"
   ],
   "metadata": {
    "collapsed": false,
    "ExecuteTime": {
     "end_time": "2023-11-04T02:55:38.574306Z",
     "start_time": "2023-11-04T02:55:38.512766Z"
    }
   },
   "id": "52df383cfe35b0ba"
  },
  {
   "cell_type": "markdown",
   "source": [
    "## Constructing a new data array\n",
    "We will concatinate the new shortened g_class with the h_class to have our new dataset with equal parameters for both predections."
   ],
   "metadata": {
    "collapsed": false
   },
   "id": "c4307361fce0a47b"
  },
  {
   "cell_type": "code",
   "execution_count": 27,
   "outputs": [
    {
     "name": "stdout",
     "output_type": "stream",
     "text": [
      "[( 28.7043, 22.2965, 3.0396, 0.2766, 0.1401,  -28.2185,  -14.4249,  12.2056, 61.727 , 148.541 , 'g')\n",
      " ( 71.3468, 25.1598, 3.0253, 0.2047, 0.1203, -120.403 ,   51.7147,  14.6913,  8.6575, 211.858 , 'g')\n",
      " ( 21.561 ,  6.7887, 2.07  , 0.7149, 0.4213,   22.5915,   13.3083,  -6.4567, 10.302 , 180.155 , 'g')\n",
      " ...\n",
      " ( 75.4455, 47.5305, 3.4483, 0.1417, 0.0549,   -9.3561,   41.0562,  -9.4662, 30.2987, 256.5166, 'h')\n",
      " (120.5135, 76.9018, 3.9939, 0.0944, 0.0683,    5.8043,  -93.5224, -63.8389, 84.6874, 408.3166, 'h')\n",
      " (187.1814, 53.0014, 3.2093, 0.2876, 0.1539, -167.3125, -168.4558,  31.4755, 52.731 , 272.3174, 'h')]\n",
      "(13376,)\n"
     ]
    }
   ],
   "source": [
    "data=np.concatenate((g_class,h_class),axis=0)\n",
    "print(data)\n",
    "print(data.shape)"
   ],
   "metadata": {
    "collapsed": false,
    "ExecuteTime": {
     "end_time": "2023-11-04T02:55:38.574713Z",
     "start_time": "2023-11-04T02:55:38.517427Z"
    }
   },
   "id": "789b0f484fce871b"
  },
  {
   "cell_type": "markdown",
   "source": [
    "## Randomizing data by shuffle and splitting\n",
    "We are shuffling all our data using numpy\n",
    "### Spliting data to Training, Testing, Validation data sets"
   ],
   "metadata": {
    "collapsed": false
   },
   "id": "199bed6c024057aa"
  },
  {
   "cell_type": "code",
   "execution_count": 28,
   "outputs": [],
   "source": [
    "rng = np.random.default_rng()\n",
    "rng.shuffle(data)\n",
    "train,test_validate=np.array_split(data,[int(0.70 * len(data))])\n",
    "test,validation=np.array_split(test_validate,[int(0.50 * len(test_validate))])"
   ],
   "metadata": {
    "collapsed": false,
    "ExecuteTime": {
     "end_time": "2023-11-04T02:55:38.576100Z",
     "start_time": "2023-11-04T02:55:38.531830Z"
    }
   },
   "id": "43ef6e24265c57a"
  },
  {
   "cell_type": "code",
   "execution_count": 29,
   "outputs": [
    {
     "name": "stdout",
     "output_type": "stream",
     "text": [
      "train: 9363\n",
      "test: 2006\n",
      "validation: 2007\n"
     ]
    }
   ],
   "source": [
    "print(f\"train: {train.shape[0]}\\n\"\n",
    "      f\"test: {test.shape[0]}\\n\"\n",
    "      f\"validation: {validation.shape[0]}\")"
   ],
   "metadata": {
    "collapsed": false,
    "ExecuteTime": {
     "end_time": "2023-11-04T02:55:38.576305Z",
     "start_time": "2023-11-04T02:55:38.541807Z"
    }
   },
   "id": "fdf402d89bfb27e9"
  },
  {
   "cell_type": "code",
   "execution_count": 30,
   "outputs": [
    {
     "data": {
      "text/plain": "array([(227.184 , 22.5405, 2.9325, 0.4474, 0.3102, -264.034 , 135.869 ,  9.4616, 48.219 , 265.238 , 'h'),\n       ( 16.7429, 15.1867, 2.3096, 0.6569, 0.4289,   -1.6276, -14.8761, 11.3786, 68.6733,  58.837 , 'g'),\n       ( 87.4843, 25.5134, 3.5567, 0.1834, 0.0939,   59.1418,  97.7039, -2.8502,  2.72  , 149.034 , 'g'),\n       ...,\n       ( 74.7173, 27.7138, 2.9001, 0.3612, 0.1907,  -32.4868,  47.5564, 29.9233, 10.598 , 291.766 , 'g'),\n       ( 30.9451, 16.7568, 2.7266, 0.4747, 0.2523,  -45.8489,  20.8345, 13.6632, 24.    , 184.2445, 'h'),\n       ( 52.026 , 18.7414, 2.9124, 0.216 , 0.1312,  -59.3847, -30.5249,  5.8067, 86.2773, 175.3454, 'h')],\n      dtype=[('f0', '<f8'), ('f1', '<f8'), ('f2', '<f8'), ('f3', '<f8'), ('f4', '<f8'), ('f5', '<f8'), ('f6', '<f8'), ('f7', '<f8'), ('f8', '<f8'), ('f9', '<f8'), ('f10', '<U1')])"
     },
     "execution_count": 30,
     "metadata": {},
     "output_type": "execute_result"
    }
   ],
   "source": [
    "test"
   ],
   "metadata": {
    "collapsed": false,
    "ExecuteTime": {
     "end_time": "2023-11-04T02:55:38.576691Z",
     "start_time": "2023-11-04T02:55:38.546475Z"
    }
   },
   "id": "310591a4f586bb82"
  },
  {
   "cell_type": "code",
   "execution_count": 31,
   "outputs": [
    {
     "data": {
      "text/plain": "array([( 36.939 , 18.2265, 3.0943, 0.3477, 0.1767,   13.7988,  27.5274,  13.6707,  7.1492, 197.201 , 'g'),\n       ( 24.2753, 15.6068, 2.5276, 0.4392, 0.2685,    7.9587,  19.1974,  14.8347, 15.4169, 125.031 , 'g'),\n       ( 20.3377, 16.3027, 2.5164, 0.5172, 0.3024,    1.3912, -10.0307,   4.1745,  8.9192, 232.5213, 'h'),\n       ...,\n       (238.1686, 84.5643, 3.6106, 0.124 , 0.0859, -175.5476, -93.5337, -82.8953, 59.5554, 175.1797, 'h'),\n       ( 74.8745, 16.9201, 3.0691, 0.3539, 0.1787,  -52.831 ,  52.5547, -14.409 ,  4.7291, 347.188 , 'h'),\n       ( 46.2067,  6.389 , 2.6149, 0.5194, 0.2973,   24.9479,  37.3093,   5.4582, 47.6534, 195.95  , 'h')],\n      dtype=[('f0', '<f8'), ('f1', '<f8'), ('f2', '<f8'), ('f3', '<f8'), ('f4', '<f8'), ('f5', '<f8'), ('f6', '<f8'), ('f7', '<f8'), ('f8', '<f8'), ('f9', '<f8'), ('f10', '<U1')])"
     },
     "execution_count": 31,
     "metadata": {},
     "output_type": "execute_result"
    }
   ],
   "source": [
    "train"
   ],
   "metadata": {
    "collapsed": false,
    "ExecuteTime": {
     "end_time": "2023-11-04T02:55:38.577266Z",
     "start_time": "2023-11-04T02:55:38.559905Z"
    }
   },
   "id": "4a1261bee6ec9651"
  },
  {
   "cell_type": "code",
   "execution_count": 32,
   "outputs": [
    {
     "data": {
      "text/plain": "array([(10.8567, 10.8014, 2.3301, 0.6371, 0.3562,  30.62  ,  -5.0966,  -3.6579, 8.03887e+01, 148.5263, 'h'),\n       (74.1464, 20.7143, 2.7348, 0.2799, 0.1427, -31.1356,  53.6291,  19.484 , 4.80200e+00, 300.163 , 'g'),\n       (55.7137, 19.1975, 2.9335, 0.2494, 0.1335, -75.2473, -37.3578,  16.5932, 1.38600e+00, 286.074 , 'g'),\n       ...,\n       (18.2796, 10.6091, 2.1367, 0.5474, 0.281 ,  -1.0013,   6.7534,   4.6502, 6.21000e-02, 180.919 , 'g'),\n       (22.2019,  6.5999, 2.1861, 0.7362, 0.4072, -24.0167, -11.5369,   6.728 , 2.02020e+01, 194.701 , 'g'),\n       (26.4121, 17.8816, 2.6042, 0.3458, 0.1779,  11.6522,  16.5482, -15.3669, 2.04350e+01, 204.868 , 'g')],\n      dtype=[('f0', '<f8'), ('f1', '<f8'), ('f2', '<f8'), ('f3', '<f8'), ('f4', '<f8'), ('f5', '<f8'), ('f6', '<f8'), ('f7', '<f8'), ('f8', '<f8'), ('f9', '<f8'), ('f10', '<U1')])"
     },
     "execution_count": 32,
     "metadata": {},
     "output_type": "execute_result"
    }
   ],
   "source": [
    "validation"
   ],
   "metadata": {
    "collapsed": false,
    "ExecuteTime": {
     "end_time": "2023-11-04T02:55:38.577439Z",
     "start_time": "2023-11-04T02:55:38.564111Z"
    }
   },
   "id": "c29d8f32098282f8"
  },
  {
   "cell_type": "markdown",
   "source": [
    "## Separating features from the perdiction\n",
    "We are taking the first ten features and putting them in array x_data\n",
    "and the last feature (the predection) in array y_data"
   ],
   "metadata": {
    "collapsed": false
   },
   "id": "6616ee52103fc454"
  },
  {
   "cell_type": "code",
   "execution_count": 33,
   "outputs": [],
   "source": [
    "def return_x_y_arrays(data_set_to_be_sliced):\n",
    "      buf=data_set_to_be_sliced.tolist()\n",
    "      x_data= []\n",
    "      y_data=[]\n",
    "      for d in buf:\n",
    "            x=d[:10]\n",
    "            x_data.append(x)\n",
    "            y=np.array([d[10]])\n",
    "            y_data.append(y)\n",
    "      x_data=np.array(x_data)\n",
    "      y_data=np.array(y_data).ravel()\n",
    "      return x_data,y_data"
   ],
   "metadata": {
    "collapsed": false,
    "ExecuteTime": {
     "end_time": "2023-11-04T02:55:38.577492Z",
     "start_time": "2023-11-04T02:55:38.567467Z"
    }
   },
   "id": "8a1f9e2ba1d002f6"
  },
  {
   "cell_type": "code",
   "execution_count": 34,
   "outputs": [],
   "source": [
    "x_train,y_train=return_x_y_arrays(train)\n",
    "x_validation,y_validation=return_x_y_arrays(validation)\n",
    "x_test,y_test=return_x_y_arrays(test)"
   ],
   "metadata": {
    "collapsed": false,
    "ExecuteTime": {
     "end_time": "2023-11-04T02:55:38.595284Z",
     "start_time": "2023-11-04T02:55:38.586486Z"
    }
   },
   "id": "b616be3a832d815"
  },
  {
   "cell_type": "markdown",
   "source": [
    "## Fitting and training the model"
   ],
   "metadata": {
    "collapsed": false
   },
   "id": "d34b3f8ccce9f27a"
  },
  {
   "cell_type": "code",
   "execution_count": 35,
   "outputs": [
    {
     "data": {
      "text/plain": "KNeighborsClassifier(n_neighbors=1)",
      "text/html": "<style>#sk-container-id-2 {color: black;}#sk-container-id-2 pre{padding: 0;}#sk-container-id-2 div.sk-toggleable {background-color: white;}#sk-container-id-2 label.sk-toggleable__label {cursor: pointer;display: block;width: 100%;margin-bottom: 0;padding: 0.3em;box-sizing: border-box;text-align: center;}#sk-container-id-2 label.sk-toggleable__label-arrow:before {content: \"▸\";float: left;margin-right: 0.25em;color: #696969;}#sk-container-id-2 label.sk-toggleable__label-arrow:hover:before {color: black;}#sk-container-id-2 div.sk-estimator:hover label.sk-toggleable__label-arrow:before {color: black;}#sk-container-id-2 div.sk-toggleable__content {max-height: 0;max-width: 0;overflow: hidden;text-align: left;background-color: #f0f8ff;}#sk-container-id-2 div.sk-toggleable__content pre {margin: 0.2em;color: black;border-radius: 0.25em;background-color: #f0f8ff;}#sk-container-id-2 input.sk-toggleable__control:checked~div.sk-toggleable__content {max-height: 200px;max-width: 100%;overflow: auto;}#sk-container-id-2 input.sk-toggleable__control:checked~label.sk-toggleable__label-arrow:before {content: \"▾\";}#sk-container-id-2 div.sk-estimator input.sk-toggleable__control:checked~label.sk-toggleable__label {background-color: #d4ebff;}#sk-container-id-2 div.sk-label input.sk-toggleable__control:checked~label.sk-toggleable__label {background-color: #d4ebff;}#sk-container-id-2 input.sk-hidden--visually {border: 0;clip: rect(1px 1px 1px 1px);clip: rect(1px, 1px, 1px, 1px);height: 1px;margin: -1px;overflow: hidden;padding: 0;position: absolute;width: 1px;}#sk-container-id-2 div.sk-estimator {font-family: monospace;background-color: #f0f8ff;border: 1px dotted black;border-radius: 0.25em;box-sizing: border-box;margin-bottom: 0.5em;}#sk-container-id-2 div.sk-estimator:hover {background-color: #d4ebff;}#sk-container-id-2 div.sk-parallel-item::after {content: \"\";width: 100%;border-bottom: 1px solid gray;flex-grow: 1;}#sk-container-id-2 div.sk-label:hover label.sk-toggleable__label {background-color: #d4ebff;}#sk-container-id-2 div.sk-serial::before {content: \"\";position: absolute;border-left: 1px solid gray;box-sizing: border-box;top: 0;bottom: 0;left: 50%;z-index: 0;}#sk-container-id-2 div.sk-serial {display: flex;flex-direction: column;align-items: center;background-color: white;padding-right: 0.2em;padding-left: 0.2em;position: relative;}#sk-container-id-2 div.sk-item {position: relative;z-index: 1;}#sk-container-id-2 div.sk-parallel {display: flex;align-items: stretch;justify-content: center;background-color: white;position: relative;}#sk-container-id-2 div.sk-item::before, #sk-container-id-2 div.sk-parallel-item::before {content: \"\";position: absolute;border-left: 1px solid gray;box-sizing: border-box;top: 0;bottom: 0;left: 50%;z-index: -1;}#sk-container-id-2 div.sk-parallel-item {display: flex;flex-direction: column;z-index: 1;position: relative;background-color: white;}#sk-container-id-2 div.sk-parallel-item:first-child::after {align-self: flex-end;width: 50%;}#sk-container-id-2 div.sk-parallel-item:last-child::after {align-self: flex-start;width: 50%;}#sk-container-id-2 div.sk-parallel-item:only-child::after {width: 0;}#sk-container-id-2 div.sk-dashed-wrapped {border: 1px dashed gray;margin: 0 0.4em 0.5em 0.4em;box-sizing: border-box;padding-bottom: 0.4em;background-color: white;}#sk-container-id-2 div.sk-label label {font-family: monospace;font-weight: bold;display: inline-block;line-height: 1.2em;}#sk-container-id-2 div.sk-label-container {text-align: center;}#sk-container-id-2 div.sk-container {/* jupyter's `normalize.less` sets `[hidden] { display: none; }` but bootstrap.min.css set `[hidden] { display: none !important; }` so we also need the `!important` here to be able to override the default hidden behavior on the sphinx rendered scikit-learn.org. See: https://github.com/scikit-learn/scikit-learn/issues/21755 */display: inline-block !important;position: relative;}#sk-container-id-2 div.sk-text-repr-fallback {display: none;}</style><div id=\"sk-container-id-2\" class=\"sk-top-container\"><div class=\"sk-text-repr-fallback\"><pre>KNeighborsClassifier(n_neighbors=1)</pre><b>In a Jupyter environment, please rerun this cell to show the HTML representation or trust the notebook. <br />On GitHub, the HTML representation is unable to render, please try loading this page with nbviewer.org.</b></div><div class=\"sk-container\" hidden><div class=\"sk-item\"><div class=\"sk-estimator sk-toggleable\"><input class=\"sk-toggleable__control sk-hidden--visually\" id=\"sk-estimator-id-2\" type=\"checkbox\" checked><label for=\"sk-estimator-id-2\" class=\"sk-toggleable__label sk-toggleable__label-arrow\">KNeighborsClassifier</label><div class=\"sk-toggleable__content\"><pre>KNeighborsClassifier(n_neighbors=1)</pre></div></div></div></div></div>"
     },
     "execution_count": 35,
     "metadata": {},
     "output_type": "execute_result"
    }
   ],
   "source": [
    "from sklearn.neighbors import KNeighborsClassifier as knn\n",
    "model=knn(n_neighbors=1)\n",
    "model.fit(x_train, y_train)"
   ],
   "metadata": {
    "collapsed": false,
    "ExecuteTime": {
     "end_time": "2023-11-04T02:55:38.643565Z",
     "start_time": "2023-11-04T02:55:38.593475Z"
    }
   },
   "id": "27b2a2dde5041aaf"
  },
  {
   "cell_type": "markdown",
   "source": [
    "## Scoring the model using test and validation datasets\n",
    "We will use various K values to score the model\n",
    "\n",
    "k=1\n",
    "k=3\n",
    "k=10\n",
    "k=23 -> Best\n",
    "k=600"
   ],
   "metadata": {
    "collapsed": false
   },
   "id": "94b652dd57ceae58"
  },
  {
   "cell_type": "code",
   "execution_count": 36,
   "outputs": [
    {
     "name": "stdout",
     "output_type": "stream",
     "text": [
      "0.7532402791625125\n",
      "0.7478824115595416\n"
     ]
    }
   ],
   "source": [
    "print(model.score(x_test,y_test))\n",
    "print(model.score(x_validation,y_validation))"
   ],
   "metadata": {
    "collapsed": false,
    "ExecuteTime": {
     "end_time": "2023-11-04T02:55:38.678569Z",
     "start_time": "2023-11-04T02:55:38.601830Z"
    }
   },
   "id": "6939a5adc29cee4b"
  },
  {
   "cell_type": "code",
   "execution_count": 50,
   "outputs": [
    {
     "name": "stdout",
     "output_type": "stream",
     "text": [
      "0.7701894317048853\n",
      "0.7593423019431988\n"
     ]
    }
   ],
   "source": [
    "model.n_neighbors=3\n",
    "print(model.score(x_test,y_test))\n",
    "print(model.score(x_validation,y_validation))"
   ],
   "metadata": {
    "collapsed": false,
    "ExecuteTime": {
     "end_time": "2023-11-04T10:49:21.978278Z",
     "start_time": "2023-11-04T10:49:21.869470Z"
    }
   },
   "id": "930785ac81228fab"
  },
  {
   "cell_type": "code",
   "execution_count": 37,
   "outputs": [
    {
     "name": "stdout",
     "output_type": "stream",
     "text": [
      "0.7666999002991027\n",
      "0.7623318385650224\n"
     ]
    }
   ],
   "source": [
    "model.n_neighbors=10\n",
    "print(model.score(x_test,y_test))\n",
    "print(model.score(x_validation,y_validation))"
   ],
   "metadata": {
    "collapsed": false,
    "ExecuteTime": {
     "end_time": "2023-11-04T02:55:38.828109Z",
     "start_time": "2023-11-04T02:55:38.678744Z"
    }
   },
   "id": "d614114ab0bc8cfb"
  },
  {
   "cell_type": "code",
   "execution_count": 56,
   "outputs": [
    {
     "name": "stdout",
     "output_type": "stream",
     "text": [
      "0.7791625124626121\n",
      "0.7678126557050324\n"
     ]
    }
   ],
   "source": [
    "model.n_neighbors=23\n",
    "print(model.score(x_test,y_test))\n",
    "print(model.score(x_validation,y_validation))"
   ],
   "metadata": {
    "collapsed": false,
    "ExecuteTime": {
     "end_time": "2023-11-04T10:55:35.615468Z",
     "start_time": "2023-11-04T10:55:35.477654Z"
    }
   },
   "id": "64781c5f97d286fe"
  },
  {
   "cell_type": "code",
   "execution_count": 38,
   "outputs": [
    {
     "name": "stdout",
     "output_type": "stream",
     "text": [
      "0.7298105682951147\n",
      "0.726457399103139\n"
     ]
    }
   ],
   "source": [
    "model.n_neighbors=600\n",
    "print(model.score(x_test,y_test))\n",
    "print(model.score(x_validation,y_validation))"
   ],
   "metadata": {
    "collapsed": false,
    "ExecuteTime": {
     "end_time": "2023-11-04T02:55:39.404108Z",
     "start_time": "2023-11-04T02:55:38.814117Z"
    }
   },
   "id": "5b16c1e1ef64ae59"
  },
  {
   "cell_type": "code",
   "execution_count": 39,
   "outputs": [],
   "source": [
    "test_scores=[]\n",
    "validation_scores=[]\n",
    "k = 3 # sqrt(10) 10 -> number of features\n",
    "model.n_neighbors=k\n",
    "test_scores.append(model.score(x_test,y_test))\n",
    "validation_scores.append(model.score(x_validation,y_validation))      "
   ],
   "metadata": {
    "collapsed": false,
    "ExecuteTime": {
     "end_time": "2023-11-04T02:55:39.478601Z",
     "start_time": "2023-11-04T02:55:39.402255Z"
    }
   },
   "id": "b9c889caf5f27b35"
  },
  {
   "cell_type": "code",
   "execution_count": 40,
   "outputs": [
    {
     "data": {
      "text/plain": "[0.7701894317048853]"
     },
     "execution_count": 40,
     "metadata": {},
     "output_type": "execute_result"
    }
   ],
   "source": [
    "test_scores"
   ],
   "metadata": {
    "collapsed": false,
    "ExecuteTime": {
     "end_time": "2023-11-04T02:55:39.484280Z",
     "start_time": "2023-11-04T02:55:39.478771Z"
    }
   },
   "id": "d20ea2f1b455676c"
  },
  {
   "cell_type": "code",
   "execution_count": 41,
   "outputs": [
    {
     "data": {
      "text/plain": "[0.7593423019431988]"
     },
     "execution_count": 41,
     "metadata": {},
     "output_type": "execute_result"
    }
   ],
   "source": [
    "validation_scores"
   ],
   "metadata": {
    "collapsed": false,
    "ExecuteTime": {
     "end_time": "2023-11-04T02:55:39.486156Z",
     "start_time": "2023-11-04T02:55:39.482763Z"
    }
   },
   "id": "b023be1e93f5941c"
  },
  {
   "cell_type": "code",
   "execution_count": 42,
   "outputs": [
    {
     "data": {
      "text/plain": "0"
     },
     "execution_count": 42,
     "metadata": {},
     "output_type": "execute_result"
    }
   ],
   "source": [
    "np.argmax(validation_scores)"
   ],
   "metadata": {
    "collapsed": false,
    "ExecuteTime": {
     "end_time": "2023-11-04T02:55:39.491736Z",
     "start_time": "2023-11-04T02:55:39.486435Z"
    }
   },
   "id": "4ae16be4860f1d47"
  },
  {
   "cell_type": "code",
   "execution_count": 43,
   "outputs": [
    {
     "data": {
      "text/plain": "0"
     },
     "execution_count": 43,
     "metadata": {},
     "output_type": "execute_result"
    }
   ],
   "source": [
    "np.argmax(test_scores)"
   ],
   "metadata": {
    "collapsed": false,
    "ExecuteTime": {
     "end_time": "2023-11-04T02:55:39.493465Z",
     "start_time": "2023-11-04T02:55:39.490264Z"
    }
   },
   "id": "313ec7d48344b16"
  },
  {
   "cell_type": "code",
   "execution_count": 52,
   "outputs": [
    {
     "name": "stdout",
     "output_type": "stream",
     "text": [
      "{'n_neighbors': [1, 3, 5, 7, 9, 11, 13, 15, 17, 19, 21, 23, 25]}\n",
      "{'n_neighbors': 23}\n",
      "Accuracy for our training dataset with tuning is : 77.11%\n"
     ]
    }
   ],
   "source": [
    "from sklearn.neighbors import KNeighborsClassifier\n",
    "from sklearn.model_selection import GridSearchCV\n",
    "KN = KNeighborsClassifier()\n",
    "k_range = list(range(1, 26, 2)) # 1, 3, 5, ..., 25\n",
    "param_grid = dict(n_neighbors=k_range)\n",
    "print(param_grid)\n",
    "grid = GridSearchCV(KN, param_grid, cv=10, scoring='accuracy', return_train_score=True)\n",
    "\n",
    "# Training data\n",
    "g = grid.fit(x_train, y_train)\n",
    "print(grid.best_params_)\n",
    "accuracy=grid.best_score_ * 100\n",
    "print(\"Accuracy for our training dataset with tuning is : {:.2f}%\".format(accuracy) )"
   ],
   "metadata": {
    "collapsed": false,
    "ExecuteTime": {
     "end_time": "2023-11-04T10:51:26.653610Z",
     "start_time": "2023-11-04T10:50:56.803873Z"
    }
   },
   "id": "bc390c82f93b9a78"
  },
  {
   "cell_type": "code",
   "execution_count": 53,
   "outputs": [
    {
     "name": "stdout",
     "output_type": "stream",
     "text": [
      "0.7791625124626121\n",
      "0.7678126557050324\n"
     ]
    }
   ],
   "source": [
    "best_k = grid.best_params_['n_neighbors']\n",
    "\n",
    "# Calculation test accuracy score\n",
    "knn = KNeighborsClassifier(n_neighbors=best_k)\n",
    "knn.fit(x_train,y_train)\n",
    "y_test_pred = knn.predict(x_test)\n",
    "test_accuracy = knn.score(x_test, y_test)\n",
    "print(test_accuracy)\n",
    "\n",
    "# Calculation validation accuracy score\n",
    "knn = KNeighborsClassifier(n_neighbors=best_k)\n",
    "knn.fit(x_train,y_train)\n",
    "y_validation_pred = knn.predict(x_validation)\n",
    "test_accuracy = knn.score(x_validation, y_validation)\n",
    "print(test_accuracy)"
   ],
   "metadata": {
    "collapsed": false,
    "ExecuteTime": {
     "end_time": "2023-11-04T10:52:41.633451Z",
     "start_time": "2023-11-04T10:52:41.408793Z"
    }
   },
   "id": "24f62154dee04bc2"
  },
  {
   "cell_type": "markdown",
   "source": [
    "## Using confusion matrix to display the results in human-readable graphic "
   ],
   "metadata": {
    "collapsed": false
   },
   "id": "d690110f2f7f34b8"
  },
  {
   "cell_type": "code",
   "execution_count": 57,
   "outputs": [
    {
     "name": "stdout",
     "output_type": "stream",
     "text": [
      "              precision    recall  f1-score   support\n",
      "\n",
      "           g       0.75      0.86      0.80      1048\n",
      "           h       0.82      0.69      0.75       958\n",
      "\n",
      "    accuracy                           0.78      2006\n",
      "   macro avg       0.79      0.78      0.78      2006\n",
      "weighted avg       0.78      0.78      0.78      2006\n"
     ]
    },
    {
     "data": {
      "text/plain": "<Figure size 640x480 with 2 Axes>",
      "image/png": "[encoded data removed]"
     },
     "metadata": {},
     "output_type": "display_data"
    }
   ],
   "source": [
    "from sklearn.metrics import confusion_matrix,classification_report\n",
    "from sklearn.metrics import ConfusionMatrixDisplay\n",
    "import matplotlib.pyplot as plt\n",
    "matix = confusion_matrix(y_test,y_test_pred)\n",
    "print(classification_report(y_test,y_test_pred))\n",
    "disp = ConfusionMatrixDisplay(confusion_matrix=matix,display_labels=['g','h'])\n",
    "disp = disp.plot(cmap=plt.cm.Blues)"
   ],
   "metadata": {
    "collapsed": false,
    "ExecuteTime": {
     "end_time": "2023-11-04T11:00:17.107976Z",
     "start_time": "2023-11-04T11:00:16.999626Z"
    }
   },
   "id": "49c095c00fbe7dec"
  },
  {
   "cell_type": "code",
   "execution_count": 55,
   "outputs": [
    {
     "data": {
      "text/plain": "   param_n_neighbors  mean_train_score  mean_test_score\n0                  1          1.000000         0.738969\n1                  3          0.867564         0.757235\n2                  5          0.837291         0.764499\n3                  7          0.825234         0.770799\n4                  9          0.813082         0.769199\n5                 11          0.808383         0.769840\n6                 13          0.803387         0.769839\n7                 15          0.799708         0.770052\n8                 17          0.797441         0.770481\n9                 19          0.794902         0.770373\n10                21          0.791591         0.768985\n11                23          0.789419         0.771123\n12                25          0.787616         0.767597",
      "text/html": "<div>\n<style scoped>\n    .dataframe tbody tr th:only-of-type {\n        vertical-align: middle;\n    }\n\n    .dataframe tbody tr th {\n        vertical-align: top;\n    }\n\n    .dataframe thead th {\n        text-align: right;\n    }\n</style>\n<table border=\"1\" class=\"dataframe\">\n  <thead>\n    <tr style=\"text-align: right;\">\n      <th></th>\n      <th>param_n_neighbors</th>\n      <th>mean_train_score</th>\n      <th>mean_test_score</th>\n    </tr>\n  </thead>\n  <tbody>\n    <tr>\n      <th>0</th>\n      <td>1</td>\n      <td>1.000000</td>\n      <td>0.738969</td>\n    </tr>\n    <tr>\n      <th>1</th>\n      <td>3</td>\n      <td>0.867564</td>\n      <td>0.757235</td>\n    </tr>\n    <tr>\n      <th>2</th>\n      <td>5</td>\n      <td>0.837291</td>\n      <td>0.764499</td>\n    </tr>\n    <tr>\n      <th>3</th>\n      <td>7</td>\n      <td>0.825234</td>\n      <td>0.770799</td>\n    </tr>\n    <tr>\n      <th>4</th>\n      <td>9</td>\n      <td>0.813082</td>\n      <td>0.769199</td>\n    </tr>\n    <tr>\n      <th>5</th>\n      <td>11</td>\n      <td>0.808383</td>\n      <td>0.769840</td>\n    </tr>\n    <tr>\n      <th>6</th>\n      <td>13</td>\n      <td>0.803387</td>\n      <td>0.769839</td>\n    </tr>\n    <tr>\n      <th>7</th>\n      <td>15</td>\n      <td>0.799708</td>\n      <td>0.770052</td>\n    </tr>\n    <tr>\n      <th>8</th>\n      <td>17</td>\n      <td>0.797441</td>\n      <td>0.770481</td>\n    </tr>\n    <tr>\n      <th>9</th>\n      <td>19</td>\n      <td>0.794902</td>\n      <td>0.770373</td>\n    </tr>\n    <tr>\n      <th>10</th>\n      <td>21</td>\n      <td>0.791591</td>\n      <td>0.768985</td>\n    </tr>\n    <tr>\n      <th>11</th>\n      <td>23</td>\n      <td>0.789419</td>\n      <td>0.771123</td>\n    </tr>\n    <tr>\n      <th>12</th>\n      <td>25</td>\n      <td>0.787616</td>\n      <td>0.767597</td>\n    </tr>\n  </tbody>\n</table>\n</div>"
     },
     "execution_count": 55,
     "metadata": {},
     "output_type": "execute_result"
    }
   ],
   "source": [
    "import pandas as pd\n",
    "results = pd.DataFrame(g.cv_results_)\n",
    "needed_results = results[['param_n_neighbors', 'mean_train_score', 'mean_test_score']]\n",
    "needed_results"
   ],
   "metadata": {
    "collapsed": false,
    "ExecuteTime": {
     "end_time": "2023-11-04T10:54:15.542868Z",
     "start_time": "2023-11-04T10:54:15.502387Z"
    }
   },
   "id": "1e0779bc70a6c2f8"
  }
 ],
 "metadata": {
  "kernelspec": {
   "display_name": "Python 3 (ipykernel)",
   "language": "python",
   "name": "python3"
  },
  "language_info": {
   "codemirror_mode": {
    "name": "ipython",
    "version": 3
   },
   "file_extension": ".py",
   "mimetype": "text/x-python",
   "name": "python",
   "nbconvert_exporter": "python",
   "pygments_lexer": "ipython3",
   "version": "3.9.12"
  }
 },
 "nbformat": 4,
 "nbformat_minor": 5
}
