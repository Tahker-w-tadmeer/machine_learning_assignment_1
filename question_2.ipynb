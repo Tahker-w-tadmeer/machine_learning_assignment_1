{
 "cells": [
  {
   "cell_type": "code",
   "execution_count": 12,
   "id": "initial_id",
   "metadata": {
    "collapsed": true,
    "ExecuteTime": {
     "end_time": "2023-10-26T23:05:30.422947200Z",
     "start_time": "2023-10-26T23:05:29.987589600Z"
    }
   },
   "outputs": [
    {
     "data": {
      "text/plain": "array([['\"Median_House_Value\"', '\"Median_Income\"', '\"Median_Age\"', ...,\n        '\"Distance_to_SanDiego\"', '\"Distance_to_SanJose\"',\n        '\"Distance_to_SanFrancisco\"'],\n       ['452600', '8.3252', '41', ..., '735501.80698384',\n        '67432.5170008434', '21250.2137667799'],\n       ['358500', '8.3014', '21', ..., '733236.884360166',\n        '65049.9085739663', '20880.6003997074'],\n       ...,\n       ['92300', '1.7', '17', ..., '830699.57316343', '240172.220489273',\n        '212097.936231564'],\n       ['84700', '1.8672', '18', ..., '834672.461886794',\n        '238193.865908775', '207923.199166252'],\n       ['89400', '2.3886', '16', ..., '825569.179027675',\n        '233282.76906299', '205473.376575195']], dtype='<U26')"
     },
     "execution_count": 12,
     "metadata": {},
     "output_type": "execute_result"
    }
   ],
   "source": [
    "import numpy as np\n",
    "data_set = np.genfromtxt('California_Houses.csv',delimiter=',', dtype=None, encoding='utf-8')\n",
    "headers=data_set[0]\n",
    "data_set_data=data_set[1:].astype('f')\n",
    "data_set"
   ]
  },
  {
   "cell_type": "code",
   "execution_count": 13,
   "outputs": [
    {
     "name": "stdout",
     "output_type": "stream",
     "text": [
      "train: 14447\n",
      "test: 3096\n",
      "validation: 3097\n"
     ]
    }
   ],
   "source": [
    "rng = np.random.default_rng()\n",
    "rng.shuffle(data_set_data)\n",
    "train,test_validate=np.array_split(data_set_data,[int(0.70 * len(data_set_data))])\n",
    "test,validation=np.array_split(test_validate,[int(0.50 * len(test_validate))])\n",
    "print(f\"train: {train.shape[0]}\\n\"\n",
    "      f\"test: {test.shape[0]}\\n\"\n",
    "      f\"validation: {validation.shape[0]}\")"
   ],
   "metadata": {
    "collapsed": false,
    "ExecuteTime": {
     "end_time": "2023-10-26T23:05:30.710017100Z",
     "start_time": "2023-10-26T23:05:30.656452300Z"
    }
   },
   "id": "d7aa6eb8c34b0d8"
  },
  {
   "cell_type": "code",
   "execution_count": 14,
   "outputs": [],
   "source": [
    "def return_x_y_arrays(data_set_to_be_sliced):\n",
    "    buf=data_set_to_be_sliced.tolist()\n",
    "    x_data= []\n",
    "    y_data=[]\n",
    "    for data in buf:\n",
    "        x=data[1:]\n",
    "        x_data.append(x)\n",
    "        y=np.array([data[0]])\n",
    "        y_data.append(y)\n",
    "    x_data=np.array(x_data)\n",
    "    y_data=np.array(y_data).ravel()\n",
    "    return x_data,y_data\n",
    "    "
   ],
   "metadata": {
    "collapsed": false,
    "ExecuteTime": {
     "end_time": "2023-10-26T23:05:31.362427Z",
     "start_time": "2023-10-26T23:05:31.334652900Z"
    }
   },
   "id": "5d5a642b938f5dfe"
  },
  {
   "cell_type": "code",
   "execution_count": 15,
   "outputs": [],
   "source": [
    "x_train,y_train=return_x_y_arrays(train)\n",
    "x_validation,y_validation=return_x_y_arrays(validation)\n",
    "x_test,y_test=return_x_y_arrays(test)"
   ],
   "metadata": {
    "collapsed": false,
    "ExecuteTime": {
     "end_time": "2023-10-26T23:05:32.100745900Z",
     "start_time": "2023-10-26T23:05:31.977249Z"
    }
   },
   "id": "9d664f53e560770f"
  },
  {
   "cell_type": "code",
   "execution_count": 16,
   "outputs": [
    {
     "name": "stdout",
     "output_type": "stream",
     "text": [
      "0.6440579815067194\n",
      "0.647595907532361\n",
      "0.6524361922663964\n"
     ]
    }
   ],
   "source": [
    "from sklearn.linear_model import LinearRegression\n",
    "model = LinearRegression()\n",
    "model.fit(x_train,y_train)\n",
    "print(model.score(x_train,y_train))\n",
    "print(model.score(x_test,y_test))\n",
    "print(model.score(x_validation,y_validation))"
   ],
   "metadata": {
    "collapsed": false,
    "ExecuteTime": {
     "end_time": "2023-10-26T23:05:32.658443700Z",
     "start_time": "2023-10-26T23:05:32.593611500Z"
    }
   },
   "id": "bc9673491a363bcf"
  },
  {
   "cell_type": "code",
   "execution_count": 17,
   "outputs": [
    {
     "data": {
      "text/plain": "array([[2.52719998e+00, 5.00000000e+00, 4.93700000e+03, ...,\n        1.55647359e+05, 5.41384125e+05, 6.09126938e+05],\n       [1.94869995e+00, 2.50000000e+01, 3.10600000e+03, ...,\n        7.86639125e+05, 1.21586758e+05, 6.29440547e+04],\n       [1.91910005e+00, 9.00000000e+00, 1.29600000e+03, ...,\n        9.20078750e+05, 2.89726438e+05, 2.40574312e+05],\n       ...,\n       [3.59899998e+00, 6.00000000e+00, 8.88400000e+03, ...,\n        1.96385531e+05, 5.01732625e+05, 5.69281312e+05],\n       [3.50000000e+00, 2.60000000e+01, 5.29000000e+02, ...,\n        7.35725188e+05, 2.41774578e+05, 2.47359656e+05],\n       [7.77990007e+00, 2.50000000e+01, 1.99400000e+03, ...,\n        6.79299062e+05, 1.30032471e+04, 5.93153945e+04]])"
     },
     "execution_count": 17,
     "metadata": {},
     "output_type": "execute_result"
    }
   ],
   "source": [
    "from sklearn.linear_model import Lasso\n",
    "x_test"
   ],
   "metadata": {
    "collapsed": false,
    "ExecuteTime": {
     "end_time": "2023-10-26T23:05:35.606742800Z",
     "start_time": "2023-10-26T23:05:35.576145900Z"
    }
   },
   "id": "179e5a91891b4d5e"
  },
  {
   "cell_type": "code",
   "execution_count": 18,
   "outputs": [],
   "source": [
    "from sklearn.preprocessing import MinMaxScaler\n",
    "def normailze(data):\n",
    "    scaler = MinMaxScaler()\n",
    "    scaler.fit(data)\n",
    "    normalized_data = scaler.transform(data)\n",
    "    return normalized_data"
   ],
   "metadata": {
    "collapsed": false,
    "ExecuteTime": {
     "end_time": "2023-10-26T23:05:39.564044800Z",
     "start_time": "2023-10-26T23:05:39.536517900Z"
    }
   },
   "id": "4281b9426ff4fb13"
  },
  {
   "cell_type": "code",
   "execution_count": 19,
   "outputs": [],
   "source": [
    "x_test=normailze(x_test)\n",
    "x_train=normailze(x_train)\n",
    "x_validation=normailze(x_validation)"
   ],
   "metadata": {
    "collapsed": false,
    "ExecuteTime": {
     "end_time": "2023-10-26T23:05:42.156237Z",
     "start_time": "2023-10-26T23:05:42.125789400Z"
    }
   },
   "id": "ad8bb38c50be091f"
  },
  {
   "cell_type": "code",
   "execution_count": 20,
   "outputs": [
    {
     "name": "stdout",
     "output_type": "stream",
     "text": [
      "0.6440579815067194\n",
      "0.1613241320372527\n",
      "0.5981410842974085\n"
     ]
    }
   ],
   "source": [
    "from sklearn.linear_model import LinearRegression\n",
    "model = LinearRegression()\n",
    "model.fit(x_train,y_train)\n",
    "print(model.score(x_train,y_train))\n",
    "print(model.score(x_test,y_test))\n",
    "print(model.score(x_validation,y_validation))"
   ],
   "metadata": {
    "collapsed": false,
    "ExecuteTime": {
     "end_time": "2023-10-26T23:05:43.376037300Z",
     "start_time": "2023-10-26T23:05:43.319534100Z"
    }
   },
   "id": "1e738f9a7912952f"
  },
  {
   "cell_type": "code",
   "execution_count": 25,
   "outputs": [
    {
     "name": "stdout",
     "output_type": "stream",
     "text": [
      "0.6331444622602909\n",
      "0.4836253399810343\n",
      "0.6421430718922484\n"
     ]
    }
   ],
   "source": [
    "model_laso=Lasso(alpha=100)\n",
    "model_laso.fit(x_train,y_train)\n",
    "print(model_laso.score(x_train,y_train))\n",
    "print(model_laso.score(x_test,y_test))\n",
    "print(model_laso.score(x_validation,y_validation))"
   ],
   "metadata": {
    "collapsed": false,
    "ExecuteTime": {
     "end_time": "2023-10-26T23:06:49.137061800Z",
     "start_time": "2023-10-26T23:06:48.513740600Z"
    }
   },
   "id": "d2647e48591d378d"
  },
  {
   "cell_type": "code",
   "execution_count": 31,
   "outputs": [
    {
     "name": "stdout",
     "output_type": "stream",
     "text": [
      "0.6416896496024114\n",
      "0.36795022562127866\n",
      "0.6261832878488449\n"
     ]
    }
   ],
   "source": [
    "from sklearn.linear_model import Ridge\n",
    "model_ridge=Ridge(alpha=1)\n",
    "model_ridge.fit(x_train,y_train)\n",
    "print(model_ridge.score(x_train,y_train))\n",
    "print(model_ridge.score(x_test,y_test))\n",
    "print(model_ridge.score(x_validation,y_validation))"
   ],
   "metadata": {
    "collapsed": false,
    "ExecuteTime": {
     "end_time": "2023-10-26T23:08:54.486950700Z",
     "start_time": "2023-10-26T23:08:54.461769600Z"
    }
   },
   "id": "15bb3e6ea6a28033"
  },
  {
   "cell_type": "code",
   "execution_count": null,
   "outputs": [],
   "source": [],
   "metadata": {
    "collapsed": false
   },
   "id": "171edc935a5518a"
  }
 ],
 "metadata": {
  "kernelspec": {
   "display_name": "Python 3",
   "language": "python",
   "name": "python3"
  },
  "language_info": {
   "codemirror_mode": {
    "name": "ipython",
    "version": 2
   },
   "file_extension": ".py",
   "mimetype": "text/x-python",
   "name": "python",
   "nbconvert_exporter": "python",
   "pygments_lexer": "ipython2",
   "version": "2.7.6"
  }
 },
 "nbformat": 4,
 "nbformat_minor": 5
}
