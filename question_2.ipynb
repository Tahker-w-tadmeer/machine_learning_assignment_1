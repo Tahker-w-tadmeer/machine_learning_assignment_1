{
 "cells": [
  {
   "cell_type": "code",
   "execution_count": 17,
   "id": "initial_id",
   "metadata": {
    "collapsed": true,
    "ExecuteTime": {
     "end_time": "2023-11-01T21:15:31.257001Z",
     "start_time": "2023-11-01T21:15:30.626054500Z"
    }
   },
   "outputs": [
    {
     "data": {
      "text/plain": "array([['\"Median_House_Value\"', '\"Median_Income\"', '\"Median_Age\"', ...,\n        '\"Distance_to_SanDiego\"', '\"Distance_to_SanJose\"',\n        '\"Distance_to_SanFrancisco\"'],\n       ['452600', '8.3252', '41', ..., '735501.80698384',\n        '67432.5170008434', '21250.2137667799'],\n       ['358500', '8.3014', '21', ..., '733236.884360166',\n        '65049.9085739663', '20880.6003997074'],\n       ...,\n       ['92300', '1.7', '17', ..., '830699.57316343', '240172.220489273',\n        '212097.936231564'],\n       ['84700', '1.8672', '18', ..., '834672.461886794',\n        '238193.865908775', '207923.199166252'],\n       ['89400', '2.3886', '16', ..., '825569.179027675',\n        '233282.76906299', '205473.376575195']], dtype='<U26')"
     },
     "execution_count": 17,
     "metadata": {},
     "output_type": "execute_result"
    }
   ],
   "source": [
    "import numpy as np\n",
    "data_set = np.genfromtxt('California_Houses.csv',delimiter=',', dtype=None, encoding='utf-8')\n",
    "headers=data_set[0]\n",
    "data_set_data=data_set[1:].astype('f')\n",
    "data_set"
   ]
  },
  {
   "cell_type": "code",
   "execution_count": 18,
   "outputs": [
    {
     "name": "stdout",
     "output_type": "stream",
     "text": [
      "train: 14447\n",
      "test: 3096\n",
      "validation: 3097\n"
     ]
    }
   ],
   "source": [
    "rng = np.random.default_rng()\n",
    "rng.shuffle(data_set_data)\n",
    "train,test_validate=np.array_split(data_set_data,[int(0.70 * len(data_set_data))])\n",
    "test,validation=np.array_split(test_validate,[int(0.50 * len(test_validate))])\n",
    "print(f\"train: {train.shape[0]}\\n\"\n",
    "      f\"test: {test.shape[0]}\\n\"\n",
    "      f\"validation: {validation.shape[0]}\")"
   ],
   "metadata": {
    "collapsed": false,
    "ExecuteTime": {
     "end_time": "2023-11-01T21:15:31.637047Z",
     "start_time": "2023-11-01T21:15:31.600078600Z"
    }
   },
   "id": "d7aa6eb8c34b0d8"
  },
  {
   "cell_type": "code",
   "execution_count": 19,
   "outputs": [],
   "source": [
    "def return_x_y_arrays(data_set_to_be_sliced):\n",
    "    buf=data_set_to_be_sliced.tolist()\n",
    "    x_data= []\n",
    "    y_data=[]\n",
    "    for data in buf:\n",
    "        x=data[1:]\n",
    "        x_data.append(x)\n",
    "        y=np.array([data[0]])\n",
    "        y_data.append(y)\n",
    "    x_data=np.array(x_data)\n",
    "    y_data=np.array(y_data).ravel()\n",
    "    return x_data,y_data\n",
    "    "
   ],
   "metadata": {
    "collapsed": false,
    "ExecuteTime": {
     "end_time": "2023-11-01T21:15:32.842429500Z",
     "start_time": "2023-11-01T21:15:32.817344300Z"
    }
   },
   "id": "5d5a642b938f5dfe"
  },
  {
   "cell_type": "code",
   "execution_count": 20,
   "outputs": [],
   "source": [
    "x_train,y_train=return_x_y_arrays(train)\n",
    "x_validation,y_validation=return_x_y_arrays(validation)\n",
    "x_test,y_test=return_x_y_arrays(test)"
   ],
   "metadata": {
    "collapsed": false,
    "ExecuteTime": {
     "end_time": "2023-11-01T21:15:33.773910Z",
     "start_time": "2023-11-01T21:15:33.648702600Z"
    }
   },
   "id": "9d664f53e560770f"
  },
  {
   "cell_type": "code",
   "execution_count": 21,
   "outputs": [
    {
     "name": "stdout",
     "output_type": "stream",
     "text": [
      "0.6425546266362687\n",
      "0.6566993875843028\n",
      "0.6534943662569487\n",
      "mean absolute error of linear: 50263.95013820915\n",
      "mean square error of linear : 4759550180.0085125\n"
     ]
    }
   ],
   "source": [
    "from sklearn.linear_model import LinearRegression\n",
    "from sklearn.metrics import mean_squared_error,mean_absolute_error\n",
    "model = LinearRegression()\n",
    "model.fit(x_train, y_train)\n",
    "y_predict=model.predict(x_train)\n",
    "print(model.score(x_train, y_train))\n",
    "print(model.score(x_test, y_test))\n",
    "print(model.score(x_validation, y_validation))\n",
    "print(\"mean absolute error of linear:\",mean_absolute_error(y_true=y_train,y_pred=y_predict))\n",
    "print(\"mean square error of linear :\",mean_squared_error(y_true=y_train,y_pred=y_predict))"
   ],
   "metadata": {
    "collapsed": false,
    "ExecuteTime": {
     "end_time": "2023-11-01T21:15:35.157553200Z",
     "start_time": "2023-11-01T21:15:35.129378800Z"
    }
   },
   "id": "bc9673491a363bcf"
  },
  {
   "cell_type": "code",
   "execution_count": 22,
   "outputs": [
    {
     "data": {
      "text/plain": "array([[1.66349995e+00, 1.40000000e+01, 1.68700000e+03, ...,\n        1.48086359e+05, 7.64899688e+05, 8.32538000e+05],\n       [2.55999994e+00, 1.60000000e+01, 7.12000000e+02, ...,\n        3.89646688e+05, 2.99216812e+05, 3.64540094e+05],\n       [7.12729979e+00, 2.10000000e+01, 2.48300000e+03, ...,\n        6.79171375e+05, 1.06933389e+04, 5.91412148e+04],\n       ...,\n       [6.24030018e+00, 1.30000000e+01, 5.83000000e+03, ...,\n        1.12550055e+05, 5.61370812e+05, 6.29405938e+05],\n       [3.62500000e+00, 3.50000000e+01, 2.91600000e+03, ...,\n        3.39225625e+05, 4.12521656e+05, 4.76454250e+05],\n       [2.99390006e+00, 3.10000000e+01, 1.31800000e+03, ...,\n        1.78769875e+05, 4.93297469e+05, 5.61332375e+05]])"
     },
     "execution_count": 22,
     "metadata": {},
     "output_type": "execute_result"
    }
   ],
   "source": [
    "from sklearn.linear_model import Lasso\n",
    "x_test"
   ],
   "metadata": {
    "collapsed": false,
    "ExecuteTime": {
     "end_time": "2023-11-01T21:15:38.880723500Z",
     "start_time": "2023-11-01T21:15:38.855364800Z"
    }
   },
   "id": "179e5a91891b4d5e"
  },
  {
   "cell_type": "code",
   "execution_count": 23,
   "outputs": [],
   "source": [
    "from sklearn.preprocessing import MinMaxScaler\n",
    "def normailze(data):\n",
    "    scaler = MinMaxScaler()\n",
    "    scaler.fit(data)\n",
    "    normalized_data = scaler.transform(data)\n",
    "    return normalized_data"
   ],
   "metadata": {
    "collapsed": false,
    "ExecuteTime": {
     "end_time": "2023-11-01T21:15:40.343659500Z",
     "start_time": "2023-11-01T21:15:40.324415600Z"
    }
   },
   "id": "4281b9426ff4fb13"
  },
  {
   "cell_type": "code",
   "execution_count": 24,
   "outputs": [],
   "source": [
    "x_test=normailze(x_test)\n",
    "x_train=normailze(x_train)\n",
    "x_validation=normailze(x_validation)"
   ],
   "metadata": {
    "collapsed": false,
    "ExecuteTime": {
     "end_time": "2023-11-01T21:15:41.943573100Z",
     "start_time": "2023-11-01T21:15:41.911003Z"
    }
   },
   "id": "ad8bb38c50be091f"
  },
  {
   "cell_type": "code",
   "execution_count": 25,
   "outputs": [
    {
     "name": "stdout",
     "output_type": "stream",
     "text": [
      "0.6425546266362686\n",
      "-0.18242066142985824\n",
      "0.2474122083059751\n",
      "mean absolute error of linear: 50263.9501382101\n",
      "mean square error of linear: 4759550180.0085125\n"
     ]
    }
   ],
   "source": [
    "from sklearn.linear_model import LinearRegression\n",
    "model = LinearRegression()\n",
    "model.fit(x_train,y_train)\n",
    "y_predict=model.predict(x_train)\n",
    "print(model.score(x_train,y_train))\n",
    "print(model.score(x_test,y_test))\n",
    "print(model.score(x_validation,y_validation))\n",
    "print(\"mean absolute error of linear:\",mean_absolute_error(y_true=y_train,y_pred=y_predict))\n",
    "print(\"mean square error of linear:\",mean_squared_error(y_true=y_train,y_pred=y_predict))"
   ],
   "metadata": {
    "collapsed": false,
    "ExecuteTime": {
     "end_time": "2023-11-01T21:15:42.924180800Z",
     "start_time": "2023-11-01T21:15:42.895885300Z"
    }
   },
   "id": "1e738f9a7912952f"
  },
  {
   "cell_type": "code",
   "execution_count": 26,
   "outputs": [
    {
     "name": "stdout",
     "output_type": "stream",
     "text": [
      "0.631183134583423\n",
      "0.4236536675237229\n",
      "0.5045649660325351\n",
      "mean absolute error of lasso: 51603.692891237864\n",
      "mean square error of lasso: 4910966846.946349\n"
     ]
    }
   ],
   "source": [
    "model_laso=Lasso(alpha=100)\n",
    "model_laso.fit(x_train,y_train)\n",
    "y_predict=model_laso.predict(x_train)\n",
    "print(model_laso.score(x_train,y_train))\n",
    "print(model_laso.score(x_test,y_test))\n",
    "print(model_laso.score(x_validation,y_validation))\n",
    "print(\"mean absolute error of lasso:\",mean_absolute_error(y_true=y_train,y_pred=y_predict))\n",
    "print(\"mean square error of lasso:\",mean_squared_error(y_true=y_train,y_pred=y_predict))"
   ],
   "metadata": {
    "collapsed": false,
    "ExecuteTime": {
     "end_time": "2023-11-01T21:15:51.786439100Z",
     "start_time": "2023-11-01T21:15:51.171186Z"
    }
   },
   "id": "d2647e48591d378d"
  },
  {
   "cell_type": "code",
   "execution_count": 27,
   "outputs": [
    {
     "name": "stdout",
     "output_type": "stream",
     "text": [
      "0.6399027938890196\n",
      "0.22229573374261313\n",
      "0.43946217821105804\n",
      "mean absolute error of ridge: 50713.17921878681\n",
      "mean square error of ridge: 4794860557.397782\n"
     ]
    }
   ],
   "source": [
    "from sklearn.linear_model import Ridge\n",
    "model_ridge=Ridge(alpha=1)\n",
    "model_ridge.fit(x_train,y_train)\n",
    "y_predict=model_ridge.predict(x_train)\n",
    "print(model_ridge.score(x_train,y_train))\n",
    "print(model_ridge.score(x_test,y_test))\n",
    "print(model_ridge.score(x_validation,y_validation))\n",
    "print(\"mean absolute error of ridge:\",mean_absolute_error(y_true=y_train,y_pred=y_predict))\n",
    "print(\"mean square error of ridge:\",mean_squared_error(y_true=y_train,y_pred=y_predict))"
   ],
   "metadata": {
    "collapsed": false,
    "ExecuteTime": {
     "end_time": "2023-11-01T21:16:00.020498800Z",
     "start_time": "2023-11-01T21:15:59.992982500Z"
    }
   },
   "id": "15bb3e6ea6a28033"
  }
 ],
 "metadata": {
  "kernelspec": {
   "display_name": "Python 3",
   "language": "python",
   "name": "python3"
  },
  "language_info": {
   "codemirror_mode": {
    "name": "ipython",
    "version": 2
   },
   "file_extension": ".py",
   "mimetype": "text/x-python",
   "name": "python",
   "nbconvert_exporter": "python",
   "pygments_lexer": "ipython2",
   "version": "2.7.6"
  }
 },
 "nbformat": 4,
 "nbformat_minor": 5
}
