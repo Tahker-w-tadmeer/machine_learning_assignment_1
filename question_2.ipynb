{
 "cells": [
  {
   "cell_type": "markdown",
   "source": [
    "# Regression to predict median house values \n",
    "## Import data from California_Houses.csv file "
   ],
   "metadata": {
    "collapsed": false
   },
   "id": "646999940d8799b6"
  },
  {
   "cell_type": "code",
   "execution_count": 1,
   "outputs": [
    {
     "data": {
      "text/plain": "array([['\"Median_House_Value\"', '\"Median_Income\"', '\"Median_Age\"', ...,\n        '\"Distance_to_SanDiego\"', '\"Distance_to_SanJose\"',\n        '\"Distance_to_SanFrancisco\"'],\n       ['452600', '8.3252', '41', ..., '735501.80698384',\n        '67432.5170008434', '21250.2137667799'],\n       ['358500', '8.3014', '21', ..., '733236.884360166',\n        '65049.9085739663', '20880.6003997074'],\n       ...,\n       ['92300', '1.7', '17', ..., '830699.57316343', '240172.220489273',\n        '212097.936231564'],\n       ['84700', '1.8672', '18', ..., '834672.461886794',\n        '238193.865908775', '207923.199166252'],\n       ['89400', '2.3886', '16', ..., '825569.179027675',\n        '233282.76906299', '205473.376575195']], dtype='<U26')"
     },
     "execution_count": 1,
     "metadata": {},
     "output_type": "execute_result"
    }
   ],
   "source": [
    "import numpy as np\n",
    "data_set = np.genfromtxt('California_Houses.csv', delimiter=',', dtype=None, encoding='utf-8')\n",
    "headers=data_set[0]\n",
    "data_set_data=data_set[1:].astype('f')\n",
    "data_set"
   ],
   "metadata": {
    "collapsed": false,
    "ExecuteTime": {
     "end_time": "2023-11-04T11:47:12.747057Z",
     "start_time": "2023-11-04T11:47:12.140493Z"
    }
   },
   "id": "initial_id"
  },
  {
   "cell_type": "markdown",
   "source": [
    "## Randomizing data, shuffling and splitting\n",
    "We are shuffling all our data using numpy\n",
    "Spliting data to Training, Testing, Validation data sets"
   ],
   "metadata": {
    "collapsed": false
   },
   "id": "b060bff6dacdefb5"
  },
  {
   "cell_type": "code",
   "execution_count": 2,
   "outputs": [
    {
     "name": "stdout",
     "output_type": "stream",
     "text": [
      "train: 14447\n",
      "test: 3096\n",
      "validation: 3097\n"
     ]
    }
   ],
   "source": [
    "rng = np.random.default_rng()\n",
    "rng.shuffle(data_set_data)\n",
    "train,test_validate=np.array_split(data_set_data,[int(0.70 * len(data_set_data))])\n",
    "test,validation=np.array_split(test_validate,[int(0.50 * len(test_validate))])\n",
    "print(f\"train: {train.shape[0]}\\n\"\n",
    "      f\"test: {test.shape[0]}\\n\"\n",
    "      f\"validation: {validation.shape[0]}\")"
   ],
   "metadata": {
    "collapsed": false,
    "ExecuteTime": {
     "end_time": "2023-11-04T11:47:12.773646Z",
     "start_time": "2023-11-04T11:47:12.745835Z"
    }
   },
   "id": "d7aa6eb8c34b0d8"
  },
  {
   "cell_type": "markdown",
   "source": [
    "## Separating features from the perdiction\n",
    "We are taking the first ten features and putting them in array x_data\n",
    "and the last feature (the predection) in array y_data"
   ],
   "metadata": {
    "collapsed": false
   },
   "id": "4313164c2b85a05f"
  },
  {
   "cell_type": "code",
   "execution_count": 3,
   "outputs": [],
   "source": [
    "def return_x_y_arrays(data_set_to_be_sliced):\n",
    "    buf=data_set_to_be_sliced.tolist()\n",
    "    x_data= []\n",
    "    y_data=[]\n",
    "    for data in buf:\n",
    "        x=data[1:]\n",
    "        x_data.append(x)\n",
    "        y=np.array([data[0]])\n",
    "        y_data.append(y)\n",
    "    x_data=np.array(x_data)\n",
    "    y_data=np.array(y_data).ravel()\n",
    "    return x_data,y_data\n",
    "    "
   ],
   "metadata": {
    "collapsed": false,
    "ExecuteTime": {
     "end_time": "2023-11-04T11:47:12.780504Z",
     "start_time": "2023-11-04T11:47:12.772930Z"
    }
   },
   "id": "5d5a642b938f5dfe"
  },
  {
   "cell_type": "code",
   "execution_count": 4,
   "outputs": [],
   "source": [
    "x_train,y_train=return_x_y_arrays(train)\n",
    "x_validation,y_validation=return_x_y_arrays(validation)\n",
    "x_test,y_test=return_x_y_arrays(test)"
   ],
   "metadata": {
    "collapsed": false,
    "ExecuteTime": {
     "end_time": "2023-11-04T11:47:12.821046Z",
     "start_time": "2023-11-04T11:47:12.803141Z"
    }
   },
   "id": "9d664f53e560770f"
  },
  {
   "cell_type": "markdown",
   "source": [
    "## Normalize data to make them all have the same range\n",
    "In order to prevent that certain data have more influence on the predection than others"
   ],
   "metadata": {
    "collapsed": false
   },
   "id": "25dea5fb33219035"
  },
  {
   "cell_type": "code",
   "execution_count": 5,
   "outputs": [],
   "source": [
    "from sklearn.preprocessing import MinMaxScaler\n",
    "def normailze(data):\n",
    "    scaler = MinMaxScaler()\n",
    "    scaler.fit(data)\n",
    "    normalized_data = scaler.transform(data)\n",
    "    return normalized_data\n",
    "\n",
    "x_test=normailze(x_test)\n",
    "x_train=normailze(x_train)\n",
    "x_validation=normailze(x_validation)"
   ],
   "metadata": {
    "collapsed": false,
    "ExecuteTime": {
     "end_time": "2023-11-04T11:47:13.618571Z",
     "start_time": "2023-11-04T11:47:12.823737Z"
    }
   },
   "id": "ad8bb38c50be091f"
  },
  {
   "cell_type": "markdown",
   "source": [
    "## Using Linear regression and calculating scores\n",
    "Also calculating mean absolute and squared errors"
   ],
   "metadata": {
    "collapsed": false
   },
   "id": "2375e021184e8da"
  },
  {
   "cell_type": "code",
   "execution_count": 6,
   "outputs": [
    {
     "name": "stdout",
     "output_type": "stream",
     "text": [
      "0.6484124996301643\n",
      "0.4367558308392615\n",
      "0.576352706639417\n",
      "mean absolute error of linear: 50017.940867707366\n",
      "mean square error of linear: 4691762040.748949\n"
     ]
    }
   ],
   "source": [
    "from sklearn.metrics import mean_absolute_error, mean_squared_error\n",
    "from sklearn.linear_model import LinearRegression\n",
    "model = LinearRegression()\n",
    "model.fit(x_train,y_train)\n",
    "y_predict=model.predict(x_train)\n",
    "print(model.score(x_train,y_train))\n",
    "print(model.score(x_test,y_test))\n",
    "print(model.score(x_validation,y_validation))\n",
    "print(\"mean absolute error of linear:\", mean_absolute_error(y_true=y_train,y_pred=y_predict))\n",
    "print(\"mean square error of linear:\", mean_squared_error(y_true=y_train,y_pred=y_predict))"
   ],
   "metadata": {
    "collapsed": false,
    "ExecuteTime": {
     "end_time": "2023-11-04T11:47:13.876558Z",
     "start_time": "2023-11-04T11:47:13.619178Z"
    }
   },
   "id": "1e738f9a7912952f"
  },
  {
   "cell_type": "markdown",
   "source": [
    "## Using Lasso regression"
   ],
   "metadata": {
    "collapsed": false
   },
   "id": "436b791e787860e7"
  },
  {
   "cell_type": "code",
   "execution_count": 7,
   "outputs": [
    {
     "name": "stdout",
     "output_type": "stream",
     "text": [
      "0.6377024883086774\n",
      "0.5843123454622934\n",
      "0.628579460906055\n",
      "mean absolute error of lasso: 51165.984855248484\n",
      "mean square error of lasso: 4834681867.31072\n"
     ]
    }
   ],
   "source": [
    "from sklearn.linear_model import Lasso\n",
    "model_laso=Lasso(alpha=100)\n",
    "model_laso.fit(x_train,y_train)\n",
    "y_predict=model_laso.predict(x_train)\n",
    "print(model_laso.score(x_train,y_train))\n",
    "print(model_laso.score(x_test,y_test))\n",
    "print(model_laso.score(x_validation,y_validation))\n",
    "print(\"mean absolute error of lasso:\",mean_absolute_error(y_true=y_train,y_pred=y_predict))\n",
    "print(\"mean square error of lasso:\",mean_squared_error(y_true=y_train,y_pred=y_predict))"
   ],
   "metadata": {
    "collapsed": false,
    "ExecuteTime": {
     "end_time": "2023-11-04T11:47:14.428606Z",
     "start_time": "2023-11-04T11:47:13.877768Z"
    }
   },
   "id": "d2647e48591d378d"
  },
  {
   "cell_type": "markdown",
   "source": [
    "## Using Ridge regression"
   ],
   "metadata": {
    "collapsed": false
   },
   "id": "90a2ca061378ce55"
  },
  {
   "cell_type": "code",
   "execution_count": 8,
   "outputs": [
    {
     "name": "stdout",
     "output_type": "stream",
     "text": [
      "0.6461267444769891\n",
      "0.5315973949764232\n",
      "0.6113186860383444\n",
      "mean absolute error of ridge: 50355.7678144383\n",
      "mean square error of ridge: 4722264317.567187\n"
     ]
    }
   ],
   "source": [
    "from sklearn.linear_model import Ridge\n",
    "model_ridge=Ridge(alpha=1)\n",
    "model_ridge.fit(x_train,y_train)\n",
    "y_predict=model_ridge.predict(x_train)\n",
    "print(model_ridge.score(x_train,y_train))\n",
    "print(model_ridge.score(x_test,y_test))\n",
    "print(model_ridge.score(x_validation,y_validation))\n",
    "print(\"mean absolute error of ridge:\",mean_absolute_error(y_true=y_train,y_pred=y_predict))\n",
    "print(\"mean square error of ridge:\",mean_squared_error(y_true=y_train,y_pred=y_predict))"
   ],
   "metadata": {
    "collapsed": false,
    "ExecuteTime": {
     "end_time": "2023-11-04T11:47:14.604966Z",
     "start_time": "2023-11-04T11:47:14.435119Z"
    }
   },
   "id": "15bb3e6ea6a28033"
  }
 ],
 "metadata": {
  "kernelspec": {
   "display_name": "Python 3",
   "language": "python",
   "name": "python3"
  },
  "language_info": {
   "codemirror_mode": {
    "name": "ipython",
    "version": 2
   },
   "file_extension": ".py",
   "mimetype": "text/x-python",
   "name": "python",
   "nbconvert_exporter": "python",
   "pygments_lexer": "ipython2",
   "version": "2.7.6"
  }
 },
 "nbformat": 4,
 "nbformat_minor": 5
}
