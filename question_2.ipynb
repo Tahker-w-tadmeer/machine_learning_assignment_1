{
 "cells": [
  {
   "cell_type": "code",
   "execution_count": 33,
   "id": "initial_id",
   "metadata": {
    "collapsed": true,
    "ExecuteTime": {
     "end_time": "2023-10-25T22:12:01.363817800Z",
     "start_time": "2023-10-25T22:12:00.841097400Z"
    }
   },
   "outputs": [
    {
     "data": {
      "text/plain": "array([['\"Median_House_Value\"', '\"Median_Income\"', '\"Median_Age\"', ...,\n        '\"Distance_to_SanDiego\"', '\"Distance_to_SanJose\"',\n        '\"Distance_to_SanFrancisco\"'],\n       ['452600', '8.3252', '41', ..., '735501.80698384',\n        '67432.5170008434', '21250.2137667799'],\n       ['358500', '8.3014', '21', ..., '733236.884360166',\n        '65049.9085739663', '20880.6003997074'],\n       ...,\n       ['92300', '1.7', '17', ..., '830699.57316343', '240172.220489273',\n        '212097.936231564'],\n       ['84700', '1.8672', '18', ..., '834672.461886794',\n        '238193.865908775', '207923.199166252'],\n       ['89400', '2.3886', '16', ..., '825569.179027675',\n        '233282.76906299', '205473.376575195']], dtype='<U26')"
     },
     "execution_count": 33,
     "metadata": {},
     "output_type": "execute_result"
    }
   ],
   "source": [
    "import numpy as np\n",
    "data_set = np.genfromtxt('California_Houses.csv',delimiter=',', dtype=None, encoding='utf-8')\n",
    "headers=data_set[0]\n",
    "data_set_data=data_set[1:].astype('f')\n",
    "data_set"
   ]
  },
  {
   "cell_type": "code",
   "execution_count": 34,
   "outputs": [
    {
     "name": "stdout",
     "output_type": "stream",
     "text": [
      "train: 14447\n",
      "test: 3096\n",
      "validation: 3097\n"
     ]
    }
   ],
   "source": [
    "rng = np.random.default_rng()\n",
    "rng.shuffle(data_set_data)\n",
    "train,test_validate=np.array_split(data_set_data,[int(0.70 * len(data_set_data))])\n",
    "test,validation=np.array_split(test_validate,[int(0.50 * len(test_validate))])\n",
    "print(f\"train: {train.shape[0]}\\n\"\n",
    "      f\"test: {test.shape[0]}\\n\"\n",
    "      f\"validation: {validation.shape[0]}\")"
   ],
   "metadata": {
    "collapsed": false,
    "ExecuteTime": {
     "end_time": "2023-10-25T22:12:05.114224200Z",
     "start_time": "2023-10-25T22:12:05.072894400Z"
    }
   },
   "id": "d7aa6eb8c34b0d8"
  },
  {
   "cell_type": "code",
   "execution_count": 35,
   "outputs": [],
   "source": [
    "def return_x_y_arrays(data_set_to_be_sliced):\n",
    "    buf=data_set_to_be_sliced.tolist()\n",
    "    x_data= []\n",
    "    y_data=[]\n",
    "    for data in buf:\n",
    "        x=data[1:]\n",
    "        x_data.append(x)\n",
    "        y=np.array([data[0]])\n",
    "        y_data.append(y)\n",
    "    x_data=np.array(x_data)\n",
    "    y_data=np.array(y_data).ravel()\n",
    "    return x_data,y_data\n",
    "    "
   ],
   "metadata": {
    "collapsed": false,
    "ExecuteTime": {
     "end_time": "2023-10-25T22:12:06.273940900Z",
     "start_time": "2023-10-25T22:12:06.258919100Z"
    }
   },
   "id": "5d5a642b938f5dfe"
  },
  {
   "cell_type": "code",
   "execution_count": 36,
   "outputs": [],
   "source": [
    "x_train,y_train=return_x_y_arrays(train)\n",
    "x_validation,y_validation=return_x_y_arrays(validation)\n",
    "x_test,y_test=return_x_y_arrays(test)"
   ],
   "metadata": {
    "collapsed": false,
    "ExecuteTime": {
     "end_time": "2023-10-25T22:12:07.866926400Z",
     "start_time": "2023-10-25T22:12:07.811661Z"
    }
   },
   "id": "9d664f53e560770f"
  },
  {
   "cell_type": "code",
   "execution_count": 37,
   "outputs": [
    {
     "name": "stdout",
     "output_type": "stream",
     "text": [
      "float64\n",
      "float64\n"
     ]
    }
   ],
   "source": [
    "print(x_train.dtype)\n",
    "print(y_train.dtype)"
   ],
   "metadata": {
    "collapsed": false,
    "ExecuteTime": {
     "end_time": "2023-10-25T22:12:09.944186600Z",
     "start_time": "2023-10-25T22:12:09.936168100Z"
    }
   },
   "id": "a0dff5db50cc2f6e"
  },
  {
   "cell_type": "code",
   "execution_count": 38,
   "outputs": [
    {
     "name": "stdout",
     "output_type": "stream",
     "text": [
      "0.6431969537720126\n",
      "0.6544187235584489\n"
     ]
    }
   ],
   "source": [
    "from sklearn.linear_model import LinearRegression\n",
    "model = LinearRegression()\n",
    "model.fit(x_train,y_train)\n",
    "print(model.score(x_test,y_test))\n",
    "print(model.score(x_validation,y_validation))"
   ],
   "metadata": {
    "collapsed": false,
    "ExecuteTime": {
     "end_time": "2023-10-25T22:12:11.557932400Z",
     "start_time": "2023-10-25T22:12:11.516506800Z"
    }
   },
   "id": "bc9673491a363bcf"
  },
  {
   "cell_type": "code",
   "execution_count": null,
   "outputs": [],
   "source": [],
   "metadata": {
    "collapsed": false
   },
   "id": "179e5a91891b4d5e"
  }
 ],
 "metadata": {
  "kernelspec": {
   "display_name": "Python 3",
   "language": "python",
   "name": "python3"
  },
  "language_info": {
   "codemirror_mode": {
    "name": "ipython",
    "version": 2
   },
   "file_extension": ".py",
   "mimetype": "text/x-python",
   "name": "python",
   "nbconvert_exporter": "python",
   "pygments_lexer": "ipython2",
   "version": "2.7.6"
  }
 },
 "nbformat": 4,
 "nbformat_minor": 5
}
